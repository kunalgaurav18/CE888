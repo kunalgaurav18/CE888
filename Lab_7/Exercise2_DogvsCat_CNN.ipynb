{
  "nbformat": 4,
  "nbformat_minor": 0,
  "metadata": {
    "colab": {
      "name": "Exercise2_DogvsCat_CNN.ipynb",
      "provenance": [],
      "toc_visible": true,
      "include_colab_link": true
    },
    "kernelspec": {
      "name": "python3",
      "display_name": "Python 3"
    },
    "accelerator": "GPU"
  },
  "cells": [
    {
      "cell_type": "markdown",
      "metadata": {
        "id": "view-in-github",
        "colab_type": "text"
      },
      "source": [
        "<a href=\"https://colab.research.google.com/github/kunalgaurav18/CE888/blob/main/Lab_7/Exercise2_DogvsCat_CNN.ipynb\" target=\"_parent\"><img src=\"https://colab.research.google.com/assets/colab-badge.svg\" alt=\"Open In Colab\"/></a>"
      ]
    },
    {
      "cell_type": "markdown",
      "metadata": {
        "id": "qTh9DiKVslsJ"
      },
      "source": [
        "## Dogs vs. Cats \n",
        "\n",
        "In this competition, you'll write an algorithm to classify whether images contain either a dog or a cat.  This is easy for humans, dogs, and cats. Your computer will find it a bit more difficult.\n",
        "\n",
        "![alt text](https://miro.medium.com/max/3000/1*bhFifratH9DjKqMBTeQG5A.gif)\n",
        "\n",
        "Ref: https://medium.com/@thegrigorian/rolling-in-the-deep-cnn-c8d3f7108c8c"
      ]
    },
    {
      "cell_type": "markdown",
      "metadata": {
        "id": "RSBI-_mSSY1g"
      },
      "source": [
        "Get your API Key from Kaggle using following steps:\n",
        "1. Login to [Kaggle](https://www.kaggle.com/) or Register if you don't have account\n",
        "2. Open Dataset (https://www.kaggle.com/c/dogs-vs-cats/rules) and accept terms and condition. \n",
        "3. On the top right corner click on your Icon and go to accounts and press a button \"Create New API Token\". It will download a JSON file containing your username and key. \n",
        "4. Now, paste both below. \n"
      ]
    },
    {
      "cell_type": "code",
      "metadata": {
        "id": "YmXSOc0tZIGA",
        "colab": {
          "base_uri": "https://localhost:8080/"
        },
        "outputId": "9a7ff79a-9775-44c2-a8a7-195d949d00c4"
      },
      "source": [
        "import os\n",
        "os.environ['KAGGLE_USERNAME'] = \"kunalgaurav18\" # username from the json file\n",
        "os.environ['KAGGLE_KEY'] = \"b13faf03a35faba4e6e75c0d330d93c4\" # key from the json file\n",
        "!kaggle competitions download -c dogs-vs-cats # api copied from kaggle (https://www.kaggle.com/c/dogs-vs-cats/data)"
      ],
      "execution_count": 14,
      "outputs": [
        {
          "output_type": "stream",
          "text": [
            "Warning: Looks like you're using an outdated API Version, please consider updating (server 1.5.10 / client 1.5.4)\n",
            "Downloading train.zip to /content\n",
            " 97% 527M/543M [00:03<00:00, 130MB/s]\n",
            "100% 543M/543M [00:03<00:00, 164MB/s]\n",
            "Downloading test1.zip to /content\n",
            " 96% 261M/271M [00:02<00:00, 145MB/s]\n",
            "100% 271M/271M [00:02<00:00, 137MB/s]\n",
            "Downloading sampleSubmission.csv to /content\n",
            "  0% 0.00/86.8k [00:00<?, ?B/s]\n",
            "100% 86.8k/86.8k [00:00<00:00, 90.0MB/s]\n"
          ],
          "name": "stdout"
        }
      ]
    },
    {
      "cell_type": "code",
      "metadata": {
        "id": "PiwIL8d1n7eS",
        "colab": {
          "base_uri": "https://localhost:8080/"
        },
        "outputId": "f141b315-518e-4b50-82f3-583af76d8e50"
      },
      "source": [
        "# Unzip training data\n",
        "from zipfile import ZipFile\n",
        "file_name = \"/content/train.zip\"\n",
        "with ZipFile(file_name, 'r') as zip:\n",
        "  zip.extractall()\n",
        "  print('done')"
      ],
      "execution_count": 15,
      "outputs": [
        {
          "output_type": "stream",
          "text": [
            "done\n"
          ],
          "name": "stdout"
        }
      ]
    },
    {
      "cell_type": "code",
      "metadata": {
        "id": "sa2Bj5i7pPKV",
        "colab": {
          "base_uri": "https://localhost:8080/"
        },
        "outputId": "4dbf0797-1108-452f-c374-3f6ddc2c718d"
      },
      "source": [
        "# Get all the paths\n",
        "data_dir_list = os.listdir('/content/train')\n",
        "#print(data_dir_list)\n",
        "path, dirs, files = next(os.walk(\"/content/train\"))\n",
        "file_count = len(files)\n",
        "print(file_count)"
      ],
      "execution_count": 16,
      "outputs": [
        {
          "output_type": "stream",
          "text": [
            "25000\n"
          ],
          "name": "stdout"
        }
      ]
    },
    {
      "cell_type": "code",
      "metadata": {
        "id": "0ERlHkfHqpK8"
      },
      "source": [
        "# Make new base directory\n",
        "original_dataset_dir = '/content/train'\n",
        "base_dir = '/content/cats_and_dogs_small'\n",
        "os.mkdir(base_dir)"
      ],
      "execution_count": 17,
      "outputs": []
    },
    {
      "cell_type": "code",
      "metadata": {
        "id": "AANB1UJ6rQhM"
      },
      "source": [
        "train_dir = os.path.join(base_dir, 'train')\n",
        "os.mkdir(train_dir)\n",
        "\n",
        "validation_dir = os.path.join(base_dir, 'validation')\n",
        "os.mkdir(validation_dir)\n",
        "\n",
        "test_dir = os.path.join(base_dir, 'test')\n",
        "os.mkdir(test_dir)\n",
        "\n",
        "train_cats_dir = os.path.join(train_dir, 'cats')\n",
        "os.mkdir(train_cats_dir)\n",
        "\n",
        "train_dogs_dir = os.path.join(train_dir, 'dogs')\n",
        "os.mkdir(train_dogs_dir)\n",
        "\n",
        "validation_cats_dir = os.path.join(validation_dir, 'cats')\n",
        "os.mkdir(validation_cats_dir)\n",
        "\n",
        "validation_dogs_dir = os.path.join(validation_dir, 'dogs')\n",
        "os.mkdir(validation_dogs_dir)\n",
        "\n",
        "test_cats_dir = os.path.join(test_dir, 'cats')\n",
        "os.mkdir(test_cats_dir)\n",
        "\n",
        "test_dogs_dir = os.path.join(test_dir, 'dogs')\n",
        "os.mkdir(test_dogs_dir)"
      ],
      "execution_count": 18,
      "outputs": []
    },
    {
      "cell_type": "code",
      "metadata": {
        "id": "ULRgL9s9rV8T"
      },
      "source": [
        "import shutil\n",
        "fnames = ['cat.{}.jpg'.format(i) for i in range(1000)]\n",
        "for fname in fnames:\n",
        "    src = os.path.join(original_dataset_dir, fname)\n",
        "    dst = os.path.join(train_cats_dir, fname)\n",
        "    #print(src,dst)\n",
        "    shutil.copyfile(src, dst)\n",
        "    \n",
        "fnames = ['cat.{}.jpg'.format(i) for i in range(1000, 1500)]\n",
        "for fname in fnames:\n",
        "    src = os.path.join(original_dataset_dir, fname)\n",
        "    dst = os.path.join(validation_cats_dir, fname)\n",
        "    shutil.copyfile(src, dst)\n",
        "\n",
        "fnames = ['cat.{}.jpg'.format(i) for i in range(1500, 2000)]\n",
        "for fname in fnames:\n",
        "    src = os.path.join(original_dataset_dir, fname)\n",
        "    dst = os.path.join(test_cats_dir, fname)\n",
        "    shutil.copyfile(src, dst)\n",
        "    \n",
        "fnames = ['dog.{}.jpg'.format(i) for i in range(1000)]\n",
        "for fname in fnames:\n",
        "    src = os.path.join(original_dataset_dir, fname)\n",
        "    dst = os.path.join(train_dogs_dir, fname)\n",
        "    shutil.copyfile(src, dst)\n",
        "\n",
        "fnames = ['dog.{}.jpg'.format(i) for i in range(1000, 1500)]\n",
        "for fname in fnames:\n",
        "    src = os.path.join(original_dataset_dir, fname)\n",
        "    dst = os.path.join(validation_dogs_dir, fname)\n",
        "    shutil.copyfile(src, dst)\n",
        "\n",
        "fnames = ['dog.{}.jpg'.format(i) for i in range(1500, 2000)]\n",
        "for fname in fnames:\n",
        "    src = os.path.join(original_dataset_dir, fname)\n",
        "    dst = os.path.join(test_dogs_dir, fname)\n",
        "    shutil.copyfile(src, dst)"
      ],
      "execution_count": 19,
      "outputs": []
    },
    {
      "cell_type": "code",
      "metadata": {
        "id": "ul3XAbIyr7vC",
        "colab": {
          "base_uri": "https://localhost:8080/"
        },
        "outputId": "cf4227bd-1d9f-494f-c6e6-a2070097c1e1"
      },
      "source": [
        "print('total training cat images:', len(os.listdir(train_cats_dir)))\n",
        "print('total training dog images:', len(os.listdir(train_dogs_dir)))\n",
        "print('total validation cat images:', len(os.listdir(validation_cats_dir)))\n",
        "\n",
        "print('total validation dog images:', len(os.listdir(validation_dogs_dir)))\n",
        "print('total test cat images:', len(os.listdir(test_cats_dir)))\n",
        "print('total test dog images:', len(os.listdir(test_dogs_dir)))"
      ],
      "execution_count": 20,
      "outputs": [
        {
          "output_type": "stream",
          "text": [
            "total training cat images: 1000\n",
            "total training dog images: 1000\n",
            "total validation cat images: 500\n",
            "total validation dog images: 500\n",
            "total test cat images: 500\n",
            "total test dog images: 500\n"
          ],
          "name": "stdout"
        }
      ]
    },
    {
      "cell_type": "code",
      "metadata": {
        "id": "o9yTA21_r-ma",
        "colab": {
          "base_uri": "https://localhost:8080/"
        },
        "outputId": "fddb3d54-33c0-4d03-e885-d6b75551b0da"
      },
      "source": [
        "from keras import layers\n",
        "from keras import models\n",
        "\n",
        "model = models.Sequential()\n",
        "model.add(layers.Conv2D(32, (3, 3), activation='relu', input_shape=(150, 150, 3)))\n",
        "model.add(layers.MaxPooling2D((2, 2)))\n",
        "model.add(layers.Conv2D(64, (3, 3), activation='relu'))\n",
        "model.add(layers.MaxPooling2D((2, 2)))\n",
        "model.add(layers.Conv2D(128, (3, 3), activation='relu'))\n",
        "model.add(layers.MaxPooling2D((2, 2)))\n",
        "model.add(layers.Conv2D(128, (3, 3), activation='relu'))\n",
        "model.add(layers.MaxPooling2D((2, 2)))\n",
        "model.add(layers.Flatten())\n",
        "model.add(layers.Dense(512, activation='relu'))\n",
        "model.add(layers.Dense(1, activation='sigmoid'))\n",
        "model.summary()"
      ],
      "execution_count": 21,
      "outputs": [
        {
          "output_type": "stream",
          "text": [
            "Model: \"sequential\"\n",
            "_________________________________________________________________\n",
            "Layer (type)                 Output Shape              Param #   \n",
            "=================================================================\n",
            "conv2d (Conv2D)              (None, 148, 148, 32)      896       \n",
            "_________________________________________________________________\n",
            "max_pooling2d (MaxPooling2D) (None, 74, 74, 32)        0         \n",
            "_________________________________________________________________\n",
            "conv2d_1 (Conv2D)            (None, 72, 72, 64)        18496     \n",
            "_________________________________________________________________\n",
            "max_pooling2d_1 (MaxPooling2 (None, 36, 36, 64)        0         \n",
            "_________________________________________________________________\n",
            "conv2d_2 (Conv2D)            (None, 34, 34, 128)       73856     \n",
            "_________________________________________________________________\n",
            "max_pooling2d_2 (MaxPooling2 (None, 17, 17, 128)       0         \n",
            "_________________________________________________________________\n",
            "conv2d_3 (Conv2D)            (None, 15, 15, 128)       147584    \n",
            "_________________________________________________________________\n",
            "max_pooling2d_3 (MaxPooling2 (None, 7, 7, 128)         0         \n",
            "_________________________________________________________________\n",
            "flatten (Flatten)            (None, 6272)              0         \n",
            "_________________________________________________________________\n",
            "dense (Dense)                (None, 512)               3211776   \n",
            "_________________________________________________________________\n",
            "dense_1 (Dense)              (None, 1)                 513       \n",
            "=================================================================\n",
            "Total params: 3,453,121\n",
            "Trainable params: 3,453,121\n",
            "Non-trainable params: 0\n",
            "_________________________________________________________________\n"
          ],
          "name": "stdout"
        }
      ]
    },
    {
      "cell_type": "code",
      "metadata": {
        "id": "2mG8wekxsBVS"
      },
      "source": [
        "from keras import optimizers\n",
        "model.compile(loss='binary_crossentropy', \n",
        "              optimizer=optimizers.RMSprop(lr=1e-4),\n",
        "              metrics=['acc'])"
      ],
      "execution_count": 22,
      "outputs": []
    },
    {
      "cell_type": "markdown",
      "metadata": {
        "id": "7zS4Klm8qWp6"
      },
      "source": [
        "## Using ImageDataGenerator to read images from directories\n",
        "As you know by now, data should be formatted into appropriately preprocessed floatingpoint tensors before being fed into the network. Currently, the data sits on a drive as JPEG files, so the steps for getting it into the network are roughly as follows:\n",
        "\n",
        "* Read the picture files.\n",
        "* Decode the JPEG content to RGB grids of pixels.\n",
        "* Convert these into floating-point tensors.\n",
        "* Rescale the pixel values (between 0 and 255) to the [0, 1] interval (as you know, neural networks prefer to deal with small input values).\n",
        "\n",
        "It may seem a bit daunting, but fortunately Keras has utilities to take care of these steps automatically. Keras has a module with image-processing helper tools, located at keras.preprocessing.image. In particular, it contains the class ImageDataGenerator,which lets you quickly set up Python generators that can automatically turn image files on disk into batches of preprocessed tensors."
      ]
    },
    {
      "cell_type": "code",
      "metadata": {
        "id": "XJ7XU7t9sEh6",
        "colab": {
          "base_uri": "https://localhost:8080/"
        },
        "outputId": "afd2dbd6-aedd-4358-d265-16c0163df728"
      },
      "source": [
        "from keras.preprocessing.image import ImageDataGenerator\n",
        "\n",
        "train_datagen = ImageDataGenerator(rescale=1./255)\n",
        "test_datagen = ImageDataGenerator(rescale=1./255)\n",
        "\n",
        "train_generator = train_datagen.flow_from_directory(train_dir,\n",
        "                                                    target_size=(150, 150), \n",
        "                                                    batch_size=20,\n",
        "                                                    class_mode='binary')\n",
        "\n",
        "validation_generator = test_datagen.flow_from_directory(validation_dir,\n",
        "                                                        target_size=(150, 150),\n",
        "                                                        batch_size=20,\n",
        "                                                        class_mode='binary')"
      ],
      "execution_count": 23,
      "outputs": [
        {
          "output_type": "stream",
          "text": [
            "Found 2000 images belonging to 2 classes.\n",
            "Found 1000 images belonging to 2 classes.\n"
          ],
          "name": "stdout"
        }
      ]
    },
    {
      "cell_type": "markdown",
      "metadata": {
        "id": "SEgLywySqm4u"
      },
      "source": [
        "Let’s fit the model to the data using the generator. You do so using the fit_generator method, the equivalent of fit for data generators like this one. It expects as its first argument a Python generator that will yield batches of inputs and targets indefinitely,like this one does. Because the data is being generated endlessly, the Keras model needs to know how many samples to draw from the generator before declaring anepoch over. This is the role of the `steps_per_epoch` argument: after having drawn `steps_per_epoch` batches from the generator—that is, after having run for `steps_per_epoch` gradient descent steps—the fitting process will go to the next epoch. In this case, batches are 20 samples, so it will take 100 batches until you see your target of 2,000 samples.\n",
        "\n",
        "When using fit_generator, you can pass a validation_data argument, much as with the fit method. It’s important to note that this argument is allowed to be a data generator, but it could also be a tuple of Numpy arrays. If you pass a generator as validation_data, then this generator is expected to yield batches of validation data endlessly; thus you should also specify the validation_steps argument, which tells the process how many batches to draw from the validation generator for evaluation."
      ]
    },
    {
      "cell_type": "code",
      "metadata": {
        "id": "yMyfPphJsJG6",
        "colab": {
          "base_uri": "https://localhost:8080/"
        },
        "outputId": "1317cbf1-8204-46c0-f36c-c13a62fb3573"
      },
      "source": [
        "history = model.fit_generator(train_generator,\n",
        "                              steps_per_epoch=100,\n",
        "                              epochs=30,\n",
        "                              validation_data=validation_generator,\n",
        "                              validation_steps=10)"
      ],
      "execution_count": 24,
      "outputs": [
        {
          "output_type": "stream",
          "text": [
            "/usr/local/lib/python3.7/dist-packages/tensorflow/python/keras/engine/training.py:1844: UserWarning: `Model.fit_generator` is deprecated and will be removed in a future version. Please use `Model.fit`, which supports generators.\n",
            "  warnings.warn('`Model.fit_generator` is deprecated and '\n"
          ],
          "name": "stderr"
        },
        {
          "output_type": "stream",
          "text": [
            "Epoch 1/30\n",
            "100/100 [==============================] - 40s 73ms/step - loss: 0.7008 - acc: 0.4928 - val_loss: 0.6524 - val_acc: 0.6150\n",
            "Epoch 2/30\n",
            "100/100 [==============================] - 7s 71ms/step - loss: 0.6640 - acc: 0.6014 - val_loss: 0.6707 - val_acc: 0.5850\n",
            "Epoch 3/30\n",
            "100/100 [==============================] - 7s 70ms/step - loss: 0.6282 - acc: 0.6578 - val_loss: 0.6154 - val_acc: 0.6700\n",
            "Epoch 4/30\n",
            "100/100 [==============================] - 7s 68ms/step - loss: 0.5830 - acc: 0.6947 - val_loss: 0.5876 - val_acc: 0.7050\n",
            "Epoch 5/30\n",
            "100/100 [==============================] - 7s 69ms/step - loss: 0.5387 - acc: 0.7123 - val_loss: 0.5934 - val_acc: 0.6800\n",
            "Epoch 6/30\n",
            "100/100 [==============================] - 7s 69ms/step - loss: 0.5123 - acc: 0.7553 - val_loss: 0.5552 - val_acc: 0.7150\n",
            "Epoch 7/30\n",
            "100/100 [==============================] - 7s 67ms/step - loss: 0.4811 - acc: 0.7700 - val_loss: 0.5452 - val_acc: 0.6950\n",
            "Epoch 8/30\n",
            "100/100 [==============================] - 7s 67ms/step - loss: 0.4473 - acc: 0.7930 - val_loss: 0.5573 - val_acc: 0.7050\n",
            "Epoch 9/30\n",
            "100/100 [==============================] - 7s 67ms/step - loss: 0.4087 - acc: 0.8188 - val_loss: 0.5347 - val_acc: 0.7300\n",
            "Epoch 10/30\n",
            "100/100 [==============================] - 7s 67ms/step - loss: 0.3866 - acc: 0.8232 - val_loss: 0.5243 - val_acc: 0.7450\n",
            "Epoch 11/30\n",
            "100/100 [==============================] - 7s 67ms/step - loss: 0.3648 - acc: 0.8360 - val_loss: 0.5351 - val_acc: 0.7400\n",
            "Epoch 12/30\n",
            "100/100 [==============================] - 7s 68ms/step - loss: 0.3462 - acc: 0.8509 - val_loss: 0.5906 - val_acc: 0.7250\n",
            "Epoch 13/30\n",
            "100/100 [==============================] - 7s 68ms/step - loss: 0.3087 - acc: 0.8680 - val_loss: 0.5321 - val_acc: 0.7250\n",
            "Epoch 14/30\n",
            "100/100 [==============================] - 7s 69ms/step - loss: 0.2627 - acc: 0.9029 - val_loss: 0.5862 - val_acc: 0.7000\n",
            "Epoch 15/30\n",
            "100/100 [==============================] - 7s 68ms/step - loss: 0.2622 - acc: 0.8916 - val_loss: 0.5688 - val_acc: 0.7450\n",
            "Epoch 16/30\n",
            "100/100 [==============================] - 7s 67ms/step - loss: 0.2414 - acc: 0.9033 - val_loss: 0.5771 - val_acc: 0.7350\n",
            "Epoch 17/30\n",
            "100/100 [==============================] - 7s 68ms/step - loss: 0.2063 - acc: 0.9309 - val_loss: 0.6260 - val_acc: 0.6900\n",
            "Epoch 18/30\n",
            "100/100 [==============================] - 7s 68ms/step - loss: 0.1865 - acc: 0.9345 - val_loss: 0.7261 - val_acc: 0.6950\n",
            "Epoch 19/30\n",
            "100/100 [==============================] - 7s 69ms/step - loss: 0.1680 - acc: 0.9428 - val_loss: 0.5746 - val_acc: 0.8000\n",
            "Epoch 20/30\n",
            "100/100 [==============================] - 7s 68ms/step - loss: 0.1380 - acc: 0.9504 - val_loss: 0.6784 - val_acc: 0.7050\n",
            "Epoch 21/30\n",
            "100/100 [==============================] - 7s 68ms/step - loss: 0.1221 - acc: 0.9628 - val_loss: 0.7932 - val_acc: 0.6850\n",
            "Epoch 22/30\n",
            "100/100 [==============================] - 7s 68ms/step - loss: 0.0964 - acc: 0.9699 - val_loss: 1.0564 - val_acc: 0.7200\n",
            "Epoch 23/30\n",
            "100/100 [==============================] - 7s 69ms/step - loss: 0.0994 - acc: 0.9711 - val_loss: 0.8683 - val_acc: 0.7000\n",
            "Epoch 24/30\n",
            "100/100 [==============================] - 7s 69ms/step - loss: 0.0755 - acc: 0.9793 - val_loss: 0.7884 - val_acc: 0.7350\n",
            "Epoch 25/30\n",
            "100/100 [==============================] - 7s 68ms/step - loss: 0.0660 - acc: 0.9840 - val_loss: 0.9966 - val_acc: 0.7450\n",
            "Epoch 26/30\n",
            "100/100 [==============================] - 7s 68ms/step - loss: 0.0541 - acc: 0.9871 - val_loss: 1.0008 - val_acc: 0.7500\n",
            "Epoch 27/30\n",
            "100/100 [==============================] - 7s 72ms/step - loss: 0.0455 - acc: 0.9923 - val_loss: 1.0578 - val_acc: 0.7050\n",
            "Epoch 28/30\n",
            "100/100 [==============================] - 7s 71ms/step - loss: 0.0366 - acc: 0.9914 - val_loss: 1.8427 - val_acc: 0.6650\n",
            "Epoch 29/30\n",
            "100/100 [==============================] - 7s 69ms/step - loss: 0.0531 - acc: 0.9817 - val_loss: 1.1628 - val_acc: 0.7400\n",
            "Epoch 30/30\n",
            "100/100 [==============================] - 7s 70ms/step - loss: 0.0330 - acc: 0.9940 - val_loss: 1.1734 - val_acc: 0.6650\n"
          ],
          "name": "stdout"
        }
      ]
    },
    {
      "cell_type": "code",
      "metadata": {
        "id": "MZaZ2HWZsNUi",
        "colab": {
          "base_uri": "https://localhost:8080/",
          "height": 545
        },
        "outputId": "b1b0da4d-f5f4-4067-d797-a4dd9303e51b"
      },
      "source": [
        "model.save('cats_and_dogs_small_1.h5')\n",
        "\n",
        "import matplotlib.pyplot as plt\n",
        "\n",
        "acc = history.history['acc']\n",
        "val_acc = history.history['val_acc']\n",
        "loss = history.history['loss']\n",
        "val_loss = history.history['val_loss']\n",
        "\n",
        "epochs = range(1, len(acc) + 1)\n",
        "\n",
        "plt.plot(epochs, acc, 'bo', label='Training acc')\n",
        "plt.plot(epochs, val_acc, 'b', label='Validation acc')\n",
        "plt.title('Training and validation accuracy')\n",
        "plt.legend()\n",
        "\n",
        "plt.figure()\n",
        "\n",
        "plt.plot(epochs, loss, 'bo', label='Training loss')\n",
        "plt.plot(epochs, val_loss, 'b', label='Validation loss')\n",
        "plt.title('Training and validation loss')\n",
        "plt.legend()\n",
        "\n",
        "plt.show()"
      ],
      "execution_count": 25,
      "outputs": [
        {
          "output_type": "display_data",
          "data": {
            "image/png": "[encoded data removed]",
            "text/plain": [
              "<Figure size 432x288 with 1 Axes>"
            ]
          },
          "metadata": {
            "tags": [],
            "needs_background": "light"
          }
        },
        {
          "output_type": "display_data",
          "data": {
            "image/png": "[encoded data removed]",
            "text/plain": [
              "<Figure size 432x288 with 1 Axes>"
            ]
          },
          "metadata": {
            "tags": [],
            "needs_background": "light"
          }
        }
      ]
    },
    {
      "cell_type": "markdown",
      "metadata": {
        "id": "XKZmXmBcq_8-"
      },
      "source": [
        "## Convolutional Networks with Dropout\n",
        "\n",
        "![alt text](https://camo.githubusercontent.com/ee6fa1073247cd2c3d241300caf110d7a7541bc5/68747470733a2f2f63646e2d696d616765732d312e6d656469756d2e636f6d2f6d61782f3830302f312a4972644a355067684439596f4f7956415137334d4a772e676966)\n",
        "\n",
        "Ref: https://github.com/mneha4/Training-Neural-Nets---Guidelines"
      ]
    },
    {
      "cell_type": "code",
      "metadata": {
        "id": "wu3cqeYQrDeN"
      },
      "source": [
        "model = models.Sequential()\n",
        "model.add(layers.Conv2D(32, (3, 3), activation='relu',\n",
        "input_shape=(150, 150, 3)))\n",
        "model.add(layers.MaxPooling2D((2, 2)))\n",
        "model.add(layers.Conv2D(64, (3, 3), activation='relu'))\n",
        "model.add(layers.MaxPooling2D((2, 2)))\n",
        "model.add(layers.Conv2D(128, (3, 3), activation='relu'))\n",
        "model.add(layers.MaxPooling2D((2, 2)))\n",
        "model.add(layers.Conv2D(128, (3, 3), activation='relu'))\n",
        "model.add(layers.MaxPooling2D((2, 2)))\n",
        "model.add(layers.Flatten())\n",
        "model.add(layers.Dropout(0.5))\n",
        "model.add(layers.Dense(512, activation='relu'))\n",
        "model.add(layers.Dense(1, activation='sigmoid'))\n",
        "\n",
        "model.compile(loss='binary_crossentropy',\n",
        "              optimizer=optimizers.RMSprop(lr=1e-4),\n",
        "              metrics=['acc'])"
      ],
      "execution_count": 26,
      "outputs": []
    },
    {
      "cell_type": "code",
      "metadata": {
        "id": "QSeLpvY0rH7F",
        "colab": {
          "base_uri": "https://localhost:8080/"
        },
        "outputId": "6dbb0d12-b1df-4f9f-e2b3-e3e08a1c23ad"
      },
      "source": [
        "\n",
        "train_datagen = ImageDataGenerator(rescale=1./255,\n",
        "                                   rotation_range=40,\n",
        "                                   width_shift_range=0.2,\n",
        "                                   height_shift_range=0.2,\n",
        "                                   shear_range=0.2,\n",
        "                                   zoom_range=0.2,\n",
        "                                   horizontal_flip=True,)\n",
        "\n",
        "test_datagen = ImageDataGenerator(rescale=1./255)\n",
        "\n",
        "train_generator = train_datagen.flow_from_directory(train_dir,\n",
        "                                                    target_size=(150, 150),\n",
        "                                                    batch_size=32,\n",
        "                                                    class_mode='binary')\n",
        "\n",
        "validation_generator = test_datagen.flow_from_directory(validation_dir,\n",
        "                                                        target_size=(150, 150),\n",
        "                                                        batch_size=32,\n",
        "                                                        class_mode='binary')\n",
        "\n",
        "history = model.fit_generator(train_generator,\n",
        "                              # steps_per_epoch=100,\n",
        "                              epochs=20,\n",
        "                              validation_data=validation_generator,)\n",
        "                              # validation_steps=50)"
      ],
      "execution_count": 29,
      "outputs": [
        {
          "output_type": "stream",
          "text": [
            "Found 2000 images belonging to 2 classes.\n",
            "Found 1000 images belonging to 2 classes.\n"
          ],
          "name": "stdout"
        },
        {
          "output_type": "stream",
          "text": [
            "/usr/local/lib/python3.7/dist-packages/tensorflow/python/keras/engine/training.py:1844: UserWarning: `Model.fit_generator` is deprecated and will be removed in a future version. Please use `Model.fit`, which supports generators.\n",
            "  warnings.warn('`Model.fit_generator` is deprecated and '\n"
          ],
          "name": "stderr"
        },
        {
          "output_type": "stream",
          "text": [
            "Epoch 1/20\n",
            "63/63 [==============================] - 17s 272ms/step - loss: 0.6735 - acc: 0.5845 - val_loss: 0.6535 - val_acc: 0.6170\n",
            "Epoch 2/20\n",
            "63/63 [==============================] - 17s 268ms/step - loss: 0.6640 - acc: 0.6025 - val_loss: 0.6411 - val_acc: 0.6270\n",
            "Epoch 3/20\n",
            "63/63 [==============================] - 17s 267ms/step - loss: 0.6541 - acc: 0.6075 - val_loss: 0.6407 - val_acc: 0.6220\n",
            "Epoch 4/20\n",
            "63/63 [==============================] - 17s 270ms/step - loss: 0.6429 - acc: 0.6250 - val_loss: 0.6949 - val_acc: 0.5550\n",
            "Epoch 5/20\n",
            "63/63 [==============================] - 17s 272ms/step - loss: 0.6386 - acc: 0.6310 - val_loss: 0.6127 - val_acc: 0.6540\n",
            "Epoch 6/20\n",
            "63/63 [==============================] - 17s 275ms/step - loss: 0.6272 - acc: 0.6570 - val_loss: 0.6083 - val_acc: 0.6590\n",
            "Epoch 7/20\n",
            "63/63 [==============================] - 17s 275ms/step - loss: 0.6131 - acc: 0.6540 - val_loss: 0.5851 - val_acc: 0.6730\n",
            "Epoch 8/20\n",
            "63/63 [==============================] - 17s 278ms/step - loss: 0.6089 - acc: 0.6610 - val_loss: 0.5946 - val_acc: 0.6640\n",
            "Epoch 9/20\n",
            "63/63 [==============================] - 17s 274ms/step - loss: 0.5962 - acc: 0.6850 - val_loss: 0.5958 - val_acc: 0.6610\n",
            "Epoch 10/20\n",
            "63/63 [==============================] - 17s 270ms/step - loss: 0.5953 - acc: 0.6825 - val_loss: 0.5682 - val_acc: 0.6850\n",
            "Epoch 11/20\n",
            "63/63 [==============================] - 17s 268ms/step - loss: 0.6012 - acc: 0.6675 - val_loss: 0.5668 - val_acc: 0.6890\n",
            "Epoch 12/20\n",
            "63/63 [==============================] - 17s 271ms/step - loss: 0.5765 - acc: 0.6930 - val_loss: 0.5591 - val_acc: 0.7010\n",
            "Epoch 13/20\n",
            "63/63 [==============================] - 17s 267ms/step - loss: 0.5866 - acc: 0.6845 - val_loss: 0.5727 - val_acc: 0.6910\n",
            "Epoch 14/20\n",
            "63/63 [==============================] - 17s 268ms/step - loss: 0.5701 - acc: 0.7065 - val_loss: 0.5469 - val_acc: 0.7220\n",
            "Epoch 15/20\n",
            "63/63 [==============================] - 17s 270ms/step - loss: 0.5755 - acc: 0.6940 - val_loss: 0.5425 - val_acc: 0.7120\n",
            "Epoch 16/20\n",
            "63/63 [==============================] - 17s 268ms/step - loss: 0.5710 - acc: 0.7055 - val_loss: 0.5352 - val_acc: 0.7210\n",
            "Epoch 17/20\n",
            "63/63 [==============================] - 17s 273ms/step - loss: 0.5566 - acc: 0.7165 - val_loss: 0.5152 - val_acc: 0.7330\n",
            "Epoch 18/20\n",
            "63/63 [==============================] - 17s 266ms/step - loss: 0.5469 - acc: 0.7215 - val_loss: 0.5325 - val_acc: 0.7140\n",
            "Epoch 19/20\n",
            "63/63 [==============================] - 17s 270ms/step - loss: 0.5628 - acc: 0.7055 - val_loss: 0.5383 - val_acc: 0.7250\n",
            "Epoch 20/20\n",
            "63/63 [==============================] - 17s 268ms/step - loss: 0.5572 - acc: 0.7175 - val_loss: 0.5526 - val_acc: 0.6980\n"
          ],
          "name": "stdout"
        }
      ]
    },
    {
      "cell_type": "markdown",
      "metadata": {
        "id": "BRdU5yrkUF_b"
      },
      "source": [
        "# Task 2:\n",
        "\n",
        "We have used Dropout to enhance the performance of the CNN model. Can you please use whatever you like to further enhance the performance from `val_acc: 0.7506`? "
      ]
    },
    {
      "cell_type": "code",
      "metadata": {
        "colab": {
          "base_uri": "https://localhost:8080/"
        },
        "id": "Pey-H3KHPQKc",
        "outputId": "eb09537f-f6dd-4dc6-d4ca-4cab3d5f7878"
      },
      "source": [
        "\r\n",
        "train_datagen = ImageDataGenerator(rescale=1./255,\r\n",
        "                                   rotation_range=20,\r\n",
        "                                   width_shift_range=0.1,\r\n",
        "                                   height_shift_range=0.1,\r\n",
        "                                   shear_range=0.2,\r\n",
        "                                   zoom_range=0.2,\r\n",
        "                                   horizontal_flip=True,)\r\n",
        "\r\n",
        "test_datagen = ImageDataGenerator(rescale=1./255)\r\n",
        "\r\n",
        "train_generator = train_datagen.flow_from_directory(train_dir,\r\n",
        "                                                    target_size=(150, 150),\r\n",
        "                                                    batch_size=32,\r\n",
        "                                                    class_mode='categorical')\r\n",
        "\r\n",
        "validation_generator = test_datagen.flow_from_directory(validation_dir,\r\n",
        "                                                        target_size=(150, 150),\r\n",
        "                                                        batch_size=32,\r\n",
        "                                                        class_mode='categorical')"
      ],
      "execution_count": 43,
      "outputs": [
        {
          "output_type": "stream",
          "text": [
            "Found 2000 images belonging to 2 classes.\n",
            "Found 1000 images belonging to 2 classes.\n"
          ],
          "name": "stdout"
        }
      ]
    },
    {
      "cell_type": "code",
      "metadata": {
        "id": "617-w23yKW5x"
      },
      "source": [
        "model = models.Sequential()\r\n",
        "model.add(layers.Conv2D(32, (3, 3), activation='relu',\r\n",
        "input_shape=(150, 150, 3)))\r\n",
        "model.add(layers.BatchNormalization())\r\n",
        "model.add(layers.MaxPooling2D((2, 2)))\r\n",
        "model.add(layers.Dropout(0.2))\r\n",
        "\r\n",
        "model.add(layers.Conv2D(64, (3, 3), activation='relu'))\r\n",
        "model.add(layers.BatchNormalization())\r\n",
        "model.add(layers.MaxPooling2D((2, 2)))\r\n",
        "model.add(layers.Dropout(0.3))\r\n",
        "\r\n",
        "\r\n",
        "model.add(layers.Conv2D(128, (3, 3), activation='relu'))\r\n",
        "model.add(layers.BatchNormalization())\r\n",
        "model.add(layers.MaxPooling2D((2, 2)))\r\n",
        "model.add(layers.Dropout(0.25))\r\n",
        "\r\n",
        "model.add(layers.Conv2D(128, (3, 3), activation='relu'))\r\n",
        "model.add(layers.BatchNormalization())\r\n",
        "model.add(layers.MaxPooling2D((2, 2)))\r\n",
        "\r\n",
        "model.add(layers.Flatten())\r\n",
        "model.add(layers.Dense(512, activation='relu'))\r\n",
        "model.add(layers.BatchNormalization())\r\n",
        "model.add(layers.Dropout(0.5))\r\n",
        "model.add(layers.Dense(128, activation='relu'))\r\n",
        "\r\n",
        "model.add(layers.Dense(2, activation='softmax'))\r\n",
        "\r\n",
        "model.compile(loss='categorical_crossentropy',\r\n",
        "              optimizer='rmsprop',\r\n",
        "              metrics=['accuracy'])"
      ],
      "execution_count": 50,
      "outputs": []
    },
    {
      "cell_type": "code",
      "metadata": {
        "id": "qYonH44yK_F5"
      },
      "source": [
        "import keras"
      ],
      "execution_count": 51,
      "outputs": []
    },
    {
      "cell_type": "code",
      "metadata": {
        "colab": {
          "base_uri": "https://localhost:8080/"
        },
        "id": "iWcFZbTtKZuE",
        "outputId": "2ec0c008-d27d-4cf9-8e49-ee25c66411b2"
      },
      "source": [
        "checkpoint = keras.callbacks.ModelCheckpoint('models/best_cat_dog.h5', \r\n",
        "                                             monitor='val_accuracy', \r\n",
        "                                             verbose=1, \r\n",
        "                                             save_best_only=True, \r\n",
        "                                             mode='max')\r\n",
        "\r\n",
        "history = model.fit_generator(train_generator,\r\n",
        "                              # steps_per_epoch=100,\r\n",
        "                              epochs=20,\r\n",
        "                              validation_data=validation_generator,\r\n",
        "                              callbacks=[checkpoint])"
      ],
      "execution_count": 52,
      "outputs": [
        {
          "output_type": "stream",
          "text": [
            "/usr/local/lib/python3.7/dist-packages/tensorflow/python/keras/engine/training.py:1844: UserWarning: `Model.fit_generator` is deprecated and will be removed in a future version. Please use `Model.fit`, which supports generators.\n",
            "  warnings.warn('`Model.fit_generator` is deprecated and '\n"
          ],
          "name": "stderr"
        },
        {
          "output_type": "stream",
          "text": [
            "Epoch 1/20\n",
            "63/63 [==============================] - 19s 283ms/step - loss: 1.1380 - accuracy: 0.5508 - val_loss: 1.8220 - val_accuracy: 0.5000\n",
            "\n",
            "Epoch 00001: val_accuracy improved from -inf to 0.50000, saving model to models/best_cat_dog.h5\n",
            "Epoch 2/20\n",
            "63/63 [==============================] - 17s 273ms/step - loss: 0.9006 - accuracy: 0.5545 - val_loss: 3.3915 - val_accuracy: 0.5000\n",
            "\n",
            "Epoch 00002: val_accuracy did not improve from 0.50000\n",
            "Epoch 3/20\n",
            "63/63 [==============================] - 17s 274ms/step - loss: 0.8546 - accuracy: 0.5659 - val_loss: 0.7340 - val_accuracy: 0.5400\n",
            "\n",
            "Epoch 00003: val_accuracy improved from 0.50000 to 0.54000, saving model to models/best_cat_dog.h5\n",
            "Epoch 4/20\n",
            "63/63 [==============================] - 17s 274ms/step - loss: 0.7773 - accuracy: 0.5669 - val_loss: 1.0463 - val_accuracy: 0.5210\n",
            "\n",
            "Epoch 00004: val_accuracy did not improve from 0.54000\n",
            "Epoch 5/20\n",
            "63/63 [==============================] - 17s 273ms/step - loss: 0.6958 - accuracy: 0.6383 - val_loss: 0.9775 - val_accuracy: 0.5010\n",
            "\n",
            "Epoch 00005: val_accuracy did not improve from 0.54000\n",
            "Epoch 6/20\n",
            "63/63 [==============================] - 17s 276ms/step - loss: 0.6775 - accuracy: 0.6219 - val_loss: 0.8538 - val_accuracy: 0.5140\n",
            "\n",
            "Epoch 00006: val_accuracy did not improve from 0.54000\n",
            "Epoch 7/20\n",
            "63/63 [==============================] - 18s 278ms/step - loss: 0.6646 - accuracy: 0.6495 - val_loss: 0.7258 - val_accuracy: 0.5740\n",
            "\n",
            "Epoch 00007: val_accuracy improved from 0.54000 to 0.57400, saving model to models/best_cat_dog.h5\n",
            "Epoch 8/20\n",
            "63/63 [==============================] - 17s 277ms/step - loss: 0.6677 - accuracy: 0.6290 - val_loss: 0.7043 - val_accuracy: 0.6100\n",
            "\n",
            "Epoch 00008: val_accuracy improved from 0.57400 to 0.61000, saving model to models/best_cat_dog.h5\n",
            "Epoch 9/20\n",
            "63/63 [==============================] - 17s 278ms/step - loss: 0.6238 - accuracy: 0.6670 - val_loss: 0.8685 - val_accuracy: 0.5910\n",
            "\n",
            "Epoch 00009: val_accuracy did not improve from 0.61000\n",
            "Epoch 10/20\n",
            "63/63 [==============================] - 17s 274ms/step - loss: 0.6006 - accuracy: 0.6972 - val_loss: 0.8885 - val_accuracy: 0.5680\n",
            "\n",
            "Epoch 00010: val_accuracy did not improve from 0.61000\n",
            "Epoch 11/20\n",
            "63/63 [==============================] - 17s 274ms/step - loss: 0.5818 - accuracy: 0.6950 - val_loss: 0.6145 - val_accuracy: 0.6640\n",
            "\n",
            "Epoch 00011: val_accuracy improved from 0.61000 to 0.66400, saving model to models/best_cat_dog.h5\n",
            "Epoch 12/20\n",
            "63/63 [==============================] - 18s 282ms/step - loss: 0.5823 - accuracy: 0.6763 - val_loss: 0.5335 - val_accuracy: 0.7150\n",
            "\n",
            "Epoch 00012: val_accuracy improved from 0.66400 to 0.71500, saving model to models/best_cat_dog.h5\n",
            "Epoch 13/20\n",
            "63/63 [==============================] - 18s 284ms/step - loss: 0.5535 - accuracy: 0.7259 - val_loss: 0.5725 - val_accuracy: 0.7070\n",
            "\n",
            "Epoch 00013: val_accuracy did not improve from 0.71500\n",
            "Epoch 14/20\n",
            "63/63 [==============================] - 18s 286ms/step - loss: 0.5517 - accuracy: 0.7232 - val_loss: 0.5573 - val_accuracy: 0.7060\n",
            "\n",
            "Epoch 00014: val_accuracy did not improve from 0.71500\n",
            "Epoch 15/20\n",
            "63/63 [==============================] - 18s 284ms/step - loss: 0.5557 - accuracy: 0.7096 - val_loss: 0.6891 - val_accuracy: 0.6540\n",
            "\n",
            "Epoch 00015: val_accuracy did not improve from 0.71500\n",
            "Epoch 16/20\n",
            "63/63 [==============================] - 18s 278ms/step - loss: 0.5688 - accuracy: 0.7144 - val_loss: 0.5997 - val_accuracy: 0.7150\n",
            "\n",
            "Epoch 00016: val_accuracy did not improve from 0.71500\n",
            "Epoch 17/20\n",
            "63/63 [==============================] - 18s 278ms/step - loss: 0.5461 - accuracy: 0.7187 - val_loss: 0.7432 - val_accuracy: 0.6350\n",
            "\n",
            "Epoch 00017: val_accuracy did not improve from 0.71500\n",
            "Epoch 18/20\n",
            "63/63 [==============================] - 18s 281ms/step - loss: 0.5182 - accuracy: 0.7459 - val_loss: 0.5378 - val_accuracy: 0.7230\n",
            "\n",
            "Epoch 00018: val_accuracy improved from 0.71500 to 0.72300, saving model to models/best_cat_dog.h5\n",
            "Epoch 19/20\n",
            "63/63 [==============================] - 18s 279ms/step - loss: 0.5264 - accuracy: 0.7376 - val_loss: 0.5673 - val_accuracy: 0.7030\n",
            "\n",
            "Epoch 00019: val_accuracy did not improve from 0.72300\n",
            "Epoch 20/20\n",
            "63/63 [==============================] - 18s 279ms/step - loss: 0.5008 - accuracy: 0.7616 - val_loss: 0.5136 - val_accuracy: 0.7540\n",
            "\n",
            "Epoch 00020: val_accuracy improved from 0.72300 to 0.75400, saving model to models/best_cat_dog.h5\n"
          ],
          "name": "stdout"
        }
      ]
    },
    {
      "cell_type": "code",
      "metadata": {
        "id": "Qxd3lPdwLn9F"
      },
      "source": [
        ""
      ],
      "execution_count": null,
      "outputs": []
    }
  ]
}