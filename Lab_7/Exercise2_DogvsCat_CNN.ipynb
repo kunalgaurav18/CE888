{
  "nbformat": 4,
  "nbformat_minor": 0,
  "metadata": {
    "colab": {
      "name": "Exercise2_DogvsCat_CNN.ipynb",
      "provenance": [],
      "toc_visible": true,
      "include_colab_link": true
    },
    "kernelspec": {
      "name": "python3",
      "display_name": "Python 3"
    },
    "accelerator": "GPU"
  },
  "cells": [
    {
      "cell_type": "markdown",
      "metadata": {
        "id": "view-in-github",
        "colab_type": "text"
      },
      "source": [
        "<a href=\"https://colab.research.google.com/github/kunalgaurav18/CE888/blob/main/Lab_7/Exercise2_DogvsCat_CNN.ipynb\" target=\"_parent\"><img src=\"https://colab.research.google.com/assets/colab-badge.svg\" alt=\"Open In Colab\"/></a>"
      ]
    },
    {
      "cell_type": "markdown",
      "metadata": {
        "id": "qTh9DiKVslsJ"
      },
      "source": [
        "## Dogs vs. Cats \n",
        "\n",
        "In this competition, you'll write an algorithm to classify whether images contain either a dog or a cat.  This is easy for humans, dogs, and cats. Your computer will find it a bit more difficult.\n",
        "\n",
        "![alt text](https://miro.medium.com/max/3000/1*bhFifratH9DjKqMBTeQG5A.gif)\n",
        "\n",
        "Ref: https://medium.com/@thegrigorian/rolling-in-the-deep-cnn-c8d3f7108c8c"
      ]
    },
    {
      "cell_type": "markdown",
      "metadata": {
        "id": "RSBI-_mSSY1g"
      },
      "source": [
        "Get your API Key from Kaggle using following steps:\n",
        "1. Login to [Kaggle](https://www.kaggle.com/) or Register if you don't have account\n",
        "2. Open Dataset (https://www.kaggle.com/c/dogs-vs-cats/rules) and accept terms and condition. \n",
        "3. On the top right corner click on your Icon and go to accounts and press a button \"Create New API Token\". It will download a JSON file containing your username and key. \n",
        "4. Now, paste both below. \n"
      ]
    },
    {
      "cell_type": "code",
      "metadata": {
        "id": "YmXSOc0tZIGA",
        "colab": {
          "base_uri": "https://localhost:8080/"
        },
        "outputId": "381a0ea9-bc29-45cb-e9a0-e32c528c495c"
      },
      "source": [
        "import os\n",
        "os.environ['KAGGLE_USERNAME'] = \"kunalgaurav18\" # username from the json file\n",
        "os.environ['KAGGLE_KEY'] = \"b13faf03a35faba4e6e75c0d330d93c4\" # key from the json file\n",
        "!kaggle competitions download -c dogs-vs-cats # api copied from kaggle (https://www.kaggle.com/c/dogs-vs-cats/data)"
      ],
      "execution_count": 1,
      "outputs": [
        {
          "output_type": "stream",
          "text": [
            "Warning: Looks like you're using an outdated API Version, please consider updating (server 1.5.12 / client 1.5.4)\n",
            "Downloading sampleSubmission.csv to /content\n",
            "  0% 0.00/86.8k [00:00<?, ?B/s]\n",
            "100% 86.8k/86.8k [00:00<00:00, 64.6MB/s]\n",
            "Downloading train.zip to /content\n",
            " 99% 538M/543M [00:02<00:00, 201MB/s]\n",
            "100% 543M/543M [00:02<00:00, 204MB/s]\n",
            "Downloading test1.zip to /content\n",
            " 94% 256M/271M [00:01<00:00, 118MB/s]\n",
            "100% 271M/271M [00:01<00:00, 148MB/s]\n"
          ],
          "name": "stdout"
        }
      ]
    },
    {
      "cell_type": "code",
      "metadata": {
        "id": "PiwIL8d1n7eS",
        "colab": {
          "base_uri": "https://localhost:8080/"
        },
        "outputId": "0c6ece97-dfb8-43c2-d1c8-767292ecbd3e"
      },
      "source": [
        "# Unzip training data\n",
        "from zipfile import ZipFile\n",
        "file_name = \"/content/train.zip\"\n",
        "with ZipFile(file_name, 'r') as zip:\n",
        "  zip.extractall()\n",
        "  print('done')"
      ],
      "execution_count": 3,
      "outputs": [
        {
          "output_type": "stream",
          "text": [
            "done\n"
          ],
          "name": "stdout"
        }
      ]
    },
    {
      "cell_type": "code",
      "metadata": {
        "id": "sa2Bj5i7pPKV",
        "colab": {
          "base_uri": "https://localhost:8080/"
        },
        "outputId": "42c44ea5-54e4-4295-fe65-a0ffcee0048f"
      },
      "source": [
        "# Get all the paths\n",
        "data_dir_list = os.listdir('/content/train')\n",
        "#print(data_dir_list)\n",
        "path, dirs, files = next(os.walk(\"/content/train\"))\n",
        "file_count = len(files)\n",
        "print(file_count)"
      ],
      "execution_count": 4,
      "outputs": [
        {
          "output_type": "stream",
          "text": [
            "25000\n"
          ],
          "name": "stdout"
        }
      ]
    },
    {
      "cell_type": "code",
      "metadata": {
        "id": "0ERlHkfHqpK8"
      },
      "source": [
        "# Make new base directory\n",
        "original_dataset_dir = '/content/train'\n",
        "base_dir = '/content/cats_and_dogs_small'\n",
        "os.mkdir(base_dir)"
      ],
      "execution_count": 5,
      "outputs": []
    },
    {
      "cell_type": "code",
      "metadata": {
        "id": "AANB1UJ6rQhM"
      },
      "source": [
        "train_dir = os.path.join(base_dir, 'train')\n",
        "os.mkdir(train_dir)\n",
        "\n",
        "validation_dir = os.path.join(base_dir, 'validation')\n",
        "os.mkdir(validation_dir)\n",
        "\n",
        "test_dir = os.path.join(base_dir, 'test')\n",
        "os.mkdir(test_dir)\n",
        "\n",
        "train_cats_dir = os.path.join(train_dir, 'cats')\n",
        "os.mkdir(train_cats_dir)\n",
        "\n",
        "train_dogs_dir = os.path.join(train_dir, 'dogs')\n",
        "os.mkdir(train_dogs_dir)\n",
        "\n",
        "validation_cats_dir = os.path.join(validation_dir, 'cats')\n",
        "os.mkdir(validation_cats_dir)\n",
        "\n",
        "validation_dogs_dir = os.path.join(validation_dir, 'dogs')\n",
        "os.mkdir(validation_dogs_dir)\n",
        "\n",
        "test_cats_dir = os.path.join(test_dir, 'cats')\n",
        "os.mkdir(test_cats_dir)\n",
        "\n",
        "test_dogs_dir = os.path.join(test_dir, 'dogs')\n",
        "os.mkdir(test_dogs_dir)"
      ],
      "execution_count": 6,
      "outputs": []
    },
    {
      "cell_type": "code",
      "metadata": {
        "id": "ULRgL9s9rV8T"
      },
      "source": [
        "import shutil\n",
        "fnames = ['cat.{}.jpg'.format(i) for i in range(1000)]\n",
        "for fname in fnames:\n",
        "    src = os.path.join(original_dataset_dir, fname)\n",
        "    dst = os.path.join(train_cats_dir, fname)\n",
        "    #print(src,dst)\n",
        "    shutil.copyfile(src, dst)\n",
        "    \n",
        "fnames = ['cat.{}.jpg'.format(i) for i in range(1000, 1500)]\n",
        "for fname in fnames:\n",
        "    src = os.path.join(original_dataset_dir, fname)\n",
        "    dst = os.path.join(validation_cats_dir, fname)\n",
        "    shutil.copyfile(src, dst)\n",
        "\n",
        "fnames = ['cat.{}.jpg'.format(i) for i in range(1500, 2000)]\n",
        "for fname in fnames:\n",
        "    src = os.path.join(original_dataset_dir, fname)\n",
        "    dst = os.path.join(test_cats_dir, fname)\n",
        "    shutil.copyfile(src, dst)\n",
        "    \n",
        "fnames = ['dog.{}.jpg'.format(i) for i in range(1000)]\n",
        "for fname in fnames:\n",
        "    src = os.path.join(original_dataset_dir, fname)\n",
        "    dst = os.path.join(train_dogs_dir, fname)\n",
        "    shutil.copyfile(src, dst)\n",
        "\n",
        "fnames = ['dog.{}.jpg'.format(i) for i in range(1000, 1500)]\n",
        "for fname in fnames:\n",
        "    src = os.path.join(original_dataset_dir, fname)\n",
        "    dst = os.path.join(validation_dogs_dir, fname)\n",
        "    shutil.copyfile(src, dst)\n",
        "\n",
        "fnames = ['dog.{}.jpg'.format(i) for i in range(1500, 2000)]\n",
        "for fname in fnames:\n",
        "    src = os.path.join(original_dataset_dir, fname)\n",
        "    dst = os.path.join(test_dogs_dir, fname)\n",
        "    shutil.copyfile(src, dst)"
      ],
      "execution_count": 7,
      "outputs": []
    },
    {
      "cell_type": "code",
      "metadata": {
        "id": "ul3XAbIyr7vC",
        "colab": {
          "base_uri": "https://localhost:8080/"
        },
        "outputId": "ca9a58f6-29f5-47ce-9e4e-66ba00fe136d"
      },
      "source": [
        "print('total training cat images:', len(os.listdir(train_cats_dir)))\n",
        "print('total training dog images:', len(os.listdir(train_dogs_dir)))\n",
        "print('total validation cat images:', len(os.listdir(validation_cats_dir)))\n",
        "\n",
        "print('total validation dog images:', len(os.listdir(validation_dogs_dir)))\n",
        "print('total test cat images:', len(os.listdir(test_cats_dir)))\n",
        "print('total test dog images:', len(os.listdir(test_dogs_dir)))"
      ],
      "execution_count": 8,
      "outputs": [
        {
          "output_type": "stream",
          "text": [
            "total training cat images: 1000\n",
            "total training dog images: 1000\n",
            "total validation cat images: 500\n",
            "total validation dog images: 500\n",
            "total test cat images: 500\n",
            "total test dog images: 500\n"
          ],
          "name": "stdout"
        }
      ]
    },
    {
      "cell_type": "code",
      "metadata": {
        "id": "o9yTA21_r-ma",
        "colab": {
          "base_uri": "https://localhost:8080/"
        },
        "outputId": "1c767e51-2161-47c4-d6b9-dbd80357c8e9"
      },
      "source": [
        "from keras import layers\n",
        "from keras import models\n",
        "\n",
        "model = models.Sequential()\n",
        "model.add(layers.Conv2D(32, (3, 3), activation='relu', input_shape=(150, 150, 3)))\n",
        "model.add(layers.MaxPooling2D((2, 2)))\n",
        "model.add(layers.Conv2D(64, (3, 3), activation='relu'))\n",
        "model.add(layers.MaxPooling2D((2, 2)))\n",
        "model.add(layers.Conv2D(128, (3, 3), activation='relu'))\n",
        "model.add(layers.MaxPooling2D((2, 2)))\n",
        "model.add(layers.Conv2D(128, (3, 3), activation='relu'))\n",
        "model.add(layers.MaxPooling2D((2, 2)))\n",
        "model.add(layers.Flatten())\n",
        "model.add(layers.Dense(512, activation='relu'))\n",
        "model.add(layers.Dense(1, activation='sigmoid'))\n",
        "model.summary()"
      ],
      "execution_count": 9,
      "outputs": [
        {
          "output_type": "stream",
          "text": [
            "Model: \"sequential\"\n",
            "_________________________________________________________________\n",
            "Layer (type)                 Output Shape              Param #   \n",
            "=================================================================\n",
            "conv2d (Conv2D)              (None, 148, 148, 32)      896       \n",
            "_________________________________________________________________\n",
            "max_pooling2d (MaxPooling2D) (None, 74, 74, 32)        0         \n",
            "_________________________________________________________________\n",
            "conv2d_1 (Conv2D)            (None, 72, 72, 64)        18496     \n",
            "_________________________________________________________________\n",
            "max_pooling2d_1 (MaxPooling2 (None, 36, 36, 64)        0         \n",
            "_________________________________________________________________\n",
            "conv2d_2 (Conv2D)            (None, 34, 34, 128)       73856     \n",
            "_________________________________________________________________\n",
            "max_pooling2d_2 (MaxPooling2 (None, 17, 17, 128)       0         \n",
            "_________________________________________________________________\n",
            "conv2d_3 (Conv2D)            (None, 15, 15, 128)       147584    \n",
            "_________________________________________________________________\n",
            "max_pooling2d_3 (MaxPooling2 (None, 7, 7, 128)         0         \n",
            "_________________________________________________________________\n",
            "flatten (Flatten)            (None, 6272)              0         \n",
            "_________________________________________________________________\n",
            "dense (Dense)                (None, 512)               3211776   \n",
            "_________________________________________________________________\n",
            "dense_1 (Dense)              (None, 1)                 513       \n",
            "=================================================================\n",
            "Total params: 3,453,121\n",
            "Trainable params: 3,453,121\n",
            "Non-trainable params: 0\n",
            "_________________________________________________________________\n"
          ],
          "name": "stdout"
        }
      ]
    },
    {
      "cell_type": "code",
      "metadata": {
        "id": "2mG8wekxsBVS"
      },
      "source": [
        "from keras import optimizers\n",
        "model.compile(loss='binary_crossentropy', \n",
        "              optimizer=optimizers.RMSprop(lr=1e-4),\n",
        "              metrics=['acc'])"
      ],
      "execution_count": 10,
      "outputs": []
    },
    {
      "cell_type": "markdown",
      "metadata": {
        "id": "7zS4Klm8qWp6"
      },
      "source": [
        "## Using ImageDataGenerator to read images from directories\n",
        "As you know by now, data should be formatted into appropriately preprocessed floatingpoint tensors before being fed into the network. Currently, the data sits on a drive as JPEG files, so the steps for getting it into the network are roughly as follows:\n",
        "\n",
        "* Read the picture files.\n",
        "* Decode the JPEG content to RGB grids of pixels.\n",
        "* Convert these into floating-point tensors.\n",
        "* Rescale the pixel values (between 0 and 255) to the [0, 1] interval (as you know, neural networks prefer to deal with small input values).\n",
        "\n",
        "It may seem a bit daunting, but fortunately Keras has utilities to take care of these steps automatically. Keras has a module with image-processing helper tools, located at keras.preprocessing.image. In particular, it contains the class ImageDataGenerator,which lets you quickly set up Python generators that can automatically turn image files on disk into batches of preprocessed tensors."
      ]
    },
    {
      "cell_type": "code",
      "metadata": {
        "id": "XJ7XU7t9sEh6",
        "colab": {
          "base_uri": "https://localhost:8080/"
        },
        "outputId": "a7c17a9c-b7fb-428c-eb32-2f5c32741e4c"
      },
      "source": [
        "from keras.preprocessing.image import ImageDataGenerator\n",
        "\n",
        "train_datagen = ImageDataGenerator(rescale=1./255)\n",
        "test_datagen = ImageDataGenerator(rescale=1./255)\n",
        "\n",
        "train_generator = train_datagen.flow_from_directory(train_dir,\n",
        "                                                    target_size=(150, 150), \n",
        "                                                    batch_size=20,\n",
        "                                                    class_mode='binary')\n",
        "\n",
        "validation_generator = test_datagen.flow_from_directory(validation_dir,\n",
        "                                                        target_size=(150, 150),\n",
        "                                                        batch_size=20,\n",
        "                                                        class_mode='binary')"
      ],
      "execution_count": 11,
      "outputs": [
        {
          "output_type": "stream",
          "text": [
            "Found 2000 images belonging to 2 classes.\n",
            "Found 1000 images belonging to 2 classes.\n"
          ],
          "name": "stdout"
        }
      ]
    },
    {
      "cell_type": "markdown",
      "metadata": {
        "id": "SEgLywySqm4u"
      },
      "source": [
        "Let’s fit the model to the data using the generator. You do so using the fit_generator method, the equivalent of fit for data generators like this one. It expects as its first argument a Python generator that will yield batches of inputs and targets indefinitely,like this one does. Because the data is being generated endlessly, the Keras model needs to know how many samples to draw from the generator before declaring anepoch over. This is the role of the `steps_per_epoch` argument: after having drawn `steps_per_epoch` batches from the generator—that is, after having run for `steps_per_epoch` gradient descent steps—the fitting process will go to the next epoch. In this case, batches are 20 samples, so it will take 100 batches until you see your target of 2,000 samples.\n",
        "\n",
        "When using fit_generator, you can pass a validation_data argument, much as with the fit method. It’s important to note that this argument is allowed to be a data generator, but it could also be a tuple of Numpy arrays. If you pass a generator as validation_data, then this generator is expected to yield batches of validation data endlessly; thus you should also specify the validation_steps argument, which tells the process how many batches to draw from the validation generator for evaluation."
      ]
    },
    {
      "cell_type": "code",
      "metadata": {
        "id": "yMyfPphJsJG6",
        "colab": {
          "base_uri": "https://localhost:8080/"
        },
        "outputId": "87fd33fc-f72d-480a-930b-6dff672fba56"
      },
      "source": [
        "history = model.fit_generator(train_generator,\n",
        "                              steps_per_epoch=100,\n",
        "                              epochs=30,\n",
        "                              validation_data=validation_generator,\n",
        "                              validation_steps=10)"
      ],
      "execution_count": 12,
      "outputs": [
        {
          "output_type": "stream",
          "text": [
            "/usr/local/lib/python3.7/dist-packages/tensorflow/python/keras/engine/training.py:1844: UserWarning: `Model.fit_generator` is deprecated and will be removed in a future version. Please use `Model.fit`, which supports generators.\n",
            "  warnings.warn('`Model.fit_generator` is deprecated and '\n"
          ],
          "name": "stderr"
        },
        {
          "output_type": "stream",
          "text": [
            "Epoch 1/30\n",
            "100/100 [==============================] - 40s 70ms/step - loss: 0.6902 - acc: 0.5169 - val_loss: 0.6791 - val_acc: 0.5450\n",
            "Epoch 2/30\n",
            "100/100 [==============================] - 7s 67ms/step - loss: 0.6638 - acc: 0.5917 - val_loss: 0.6372 - val_acc: 0.6450\n",
            "Epoch 3/30\n",
            "100/100 [==============================] - 7s 66ms/step - loss: 0.6293 - acc: 0.6366 - val_loss: 0.6528 - val_acc: 0.6350\n",
            "Epoch 4/30\n",
            "100/100 [==============================] - 7s 66ms/step - loss: 0.5786 - acc: 0.6975 - val_loss: 0.6630 - val_acc: 0.6100\n",
            "Epoch 5/30\n",
            "100/100 [==============================] - 7s 65ms/step - loss: 0.5505 - acc: 0.7186 - val_loss: 0.5305 - val_acc: 0.7050\n",
            "Epoch 6/30\n",
            "100/100 [==============================] - 6s 64ms/step - loss: 0.5210 - acc: 0.7465 - val_loss: 0.5557 - val_acc: 0.7050\n",
            "Epoch 7/30\n",
            "100/100 [==============================] - 6s 64ms/step - loss: 0.4633 - acc: 0.7683 - val_loss: 0.6037 - val_acc: 0.6700\n",
            "Epoch 8/30\n",
            "100/100 [==============================] - 7s 66ms/step - loss: 0.4705 - acc: 0.7888 - val_loss: 0.5454 - val_acc: 0.7250\n",
            "Epoch 9/30\n",
            "100/100 [==============================] - 6s 65ms/step - loss: 0.4442 - acc: 0.7989 - val_loss: 0.5361 - val_acc: 0.7200\n",
            "Epoch 10/30\n",
            "100/100 [==============================] - 7s 66ms/step - loss: 0.4079 - acc: 0.8340 - val_loss: 0.5682 - val_acc: 0.7400\n",
            "Epoch 11/30\n",
            "100/100 [==============================] - 6s 65ms/step - loss: 0.3836 - acc: 0.8348 - val_loss: 0.5525 - val_acc: 0.7400\n",
            "Epoch 12/30\n",
            "100/100 [==============================] - 6s 64ms/step - loss: 0.3768 - acc: 0.8304 - val_loss: 0.6438 - val_acc: 0.6950\n",
            "Epoch 13/30\n",
            "100/100 [==============================] - 7s 66ms/step - loss: 0.3407 - acc: 0.8562 - val_loss: 0.6822 - val_acc: 0.6750\n",
            "Epoch 14/30\n",
            "100/100 [==============================] - 6s 65ms/step - loss: 0.3202 - acc: 0.8626 - val_loss: 0.5312 - val_acc: 0.7500\n",
            "Epoch 15/30\n",
            "100/100 [==============================] - 6s 65ms/step - loss: 0.3054 - acc: 0.8642 - val_loss: 0.5850 - val_acc: 0.7150\n",
            "Epoch 16/30\n",
            "100/100 [==============================] - 6s 64ms/step - loss: 0.2553 - acc: 0.8969 - val_loss: 0.6857 - val_acc: 0.7350\n",
            "Epoch 17/30\n",
            "100/100 [==============================] - 6s 64ms/step - loss: 0.2431 - acc: 0.8981 - val_loss: 0.5447 - val_acc: 0.7550\n",
            "Epoch 18/30\n",
            "100/100 [==============================] - 6s 64ms/step - loss: 0.2049 - acc: 0.9203 - val_loss: 0.6999 - val_acc: 0.7150\n",
            "Epoch 19/30\n",
            "100/100 [==============================] - 7s 66ms/step - loss: 0.1894 - acc: 0.9367 - val_loss: 0.6993 - val_acc: 0.6950\n",
            "Epoch 20/30\n",
            "100/100 [==============================] - 7s 66ms/step - loss: 0.1764 - acc: 0.9377 - val_loss: 0.6478 - val_acc: 0.7400\n",
            "Epoch 21/30\n",
            "100/100 [==============================] - 7s 65ms/step - loss: 0.1520 - acc: 0.9468 - val_loss: 0.7648 - val_acc: 0.7250\n",
            "Epoch 22/30\n",
            "100/100 [==============================] - 7s 65ms/step - loss: 0.1162 - acc: 0.9673 - val_loss: 0.7068 - val_acc: 0.7300\n",
            "Epoch 23/30\n",
            "100/100 [==============================] - 7s 66ms/step - loss: 0.1132 - acc: 0.9662 - val_loss: 0.6986 - val_acc: 0.7350\n",
            "Epoch 24/30\n",
            "100/100 [==============================] - 7s 66ms/step - loss: 0.1004 - acc: 0.9669 - val_loss: 0.7944 - val_acc: 0.7350\n",
            "Epoch 25/30\n",
            "100/100 [==============================] - 6s 65ms/step - loss: 0.0830 - acc: 0.9719 - val_loss: 0.8381 - val_acc: 0.7700\n",
            "Epoch 26/30\n",
            "100/100 [==============================] - 6s 65ms/step - loss: 0.0635 - acc: 0.9845 - val_loss: 0.9575 - val_acc: 0.6950\n",
            "Epoch 27/30\n",
            "100/100 [==============================] - 7s 66ms/step - loss: 0.0545 - acc: 0.9879 - val_loss: 1.2054 - val_acc: 0.6750\n",
            "Epoch 28/30\n",
            "100/100 [==============================] - 7s 66ms/step - loss: 0.0488 - acc: 0.9900 - val_loss: 0.9390 - val_acc: 0.7000\n",
            "Epoch 29/30\n",
            "100/100 [==============================] - 7s 67ms/step - loss: 0.0385 - acc: 0.9922 - val_loss: 0.9685 - val_acc: 0.7450\n",
            "Epoch 30/30\n",
            "100/100 [==============================] - 7s 65ms/step - loss: 0.0346 - acc: 0.9903 - val_loss: 1.2374 - val_acc: 0.6450\n"
          ],
          "name": "stdout"
        }
      ]
    },
    {
      "cell_type": "code",
      "metadata": {
        "id": "MZaZ2HWZsNUi",
        "colab": {
          "base_uri": "https://localhost:8080/",
          "height": 545
        },
        "outputId": "714576fc-8d63-4b3d-e96f-ad0a8f1c58f7"
      },
      "source": [
        "model.save('cats_and_dogs_small_1.h5')\n",
        "\n",
        "import matplotlib.pyplot as plt\n",
        "\n",
        "acc = history.history['acc']\n",
        "val_acc = history.history['val_acc']\n",
        "loss = history.history['loss']\n",
        "val_loss = history.history['val_loss']\n",
        "\n",
        "epochs = range(1, len(acc) + 1)\n",
        "\n",
        "plt.plot(epochs, acc, 'bo', label='Training acc')\n",
        "plt.plot(epochs, val_acc, 'b', label='Validation acc')\n",
        "plt.title('Training and validation accuracy')\n",
        "plt.legend()\n",
        "\n",
        "plt.figure()\n",
        "\n",
        "plt.plot(epochs, loss, 'bo', label='Training loss')\n",
        "plt.plot(epochs, val_loss, 'b', label='Validation loss')\n",
        "plt.title('Training and validation loss')\n",
        "plt.legend()\n",
        "\n",
        "plt.show()"
      ],
      "execution_count": 13,
      "outputs": [
        {
          "output_type": "display_data",
          "data": {
            "image/png": "[encoded data removed]",
            "text/plain": [
              "<Figure size 432x288 with 1 Axes>"
            ]
          },
          "metadata": {
            "tags": [],
            "needs_background": "light"
          }
        },
        {
          "output_type": "display_data",
          "data": {
            "image/png": "[encoded data removed]",
            "text/plain": [
              "<Figure size 432x288 with 1 Axes>"
            ]
          },
          "metadata": {
            "tags": [],
            "needs_background": "light"
          }
        }
      ]
    },
    {
      "cell_type": "markdown",
      "metadata": {
        "id": "XKZmXmBcq_8-"
      },
      "source": [
        "## Convolutional Networks with Dropout\n",
        "\n",
        "![alt text](https://camo.githubusercontent.com/ee6fa1073247cd2c3d241300caf110d7a7541bc5/68747470733a2f2f63646e2d696d616765732d312e6d656469756d2e636f6d2f6d61782f3830302f312a4972644a355067684439596f4f7956415137334d4a772e676966)\n",
        "\n",
        "Ref: https://github.com/mneha4/Training-Neural-Nets---Guidelines"
      ]
    },
    {
      "cell_type": "code",
      "metadata": {
        "id": "wu3cqeYQrDeN"
      },
      "source": [
        "model = models.Sequential()\n",
        "model.add(layers.Conv2D(32, (3, 3), activation='relu',\n",
        "input_shape=(150, 150, 3)))\n",
        "model.add(layers.MaxPooling2D((2, 2)))\n",
        "model.add(layers.Conv2D(64, (3, 3), activation='relu'))\n",
        "model.add(layers.MaxPooling2D((2, 2)))\n",
        "model.add(layers.Conv2D(128, (3, 3), activation='relu'))\n",
        "model.add(layers.MaxPooling2D((2, 2)))\n",
        "model.add(layers.Conv2D(128, (3, 3), activation='relu'))\n",
        "model.add(layers.MaxPooling2D((2, 2)))\n",
        "model.add(layers.Flatten())\n",
        "model.add(layers.Dropout(0.5))\n",
        "model.add(layers.Dense(512, activation='relu'))\n",
        "model.add(layers.Dense(1, activation='sigmoid'))\n",
        "\n",
        "model.compile(loss='binary_crossentropy',\n",
        "              optimizer=optimizers.RMSprop(lr=1e-4),\n",
        "              metrics=['acc'])"
      ],
      "execution_count": 14,
      "outputs": []
    },
    {
      "cell_type": "code",
      "metadata": {
        "id": "QSeLpvY0rH7F",
        "colab": {
          "base_uri": "https://localhost:8080/"
        },
        "outputId": "ff589fa7-e71c-418d-eee9-e359d96c6f1c"
      },
      "source": [
        "\n",
        "train_datagen = ImageDataGenerator(rescale=1./255,\n",
        "                                   rotation_range=40,\n",
        "                                   width_shift_range=0.2,\n",
        "                                   height_shift_range=0.2,\n",
        "                                   shear_range=0.2,\n",
        "                                   zoom_range=0.2,\n",
        "                                   horizontal_flip=True,)\n",
        "\n",
        "test_datagen = ImageDataGenerator(rescale=1./255)\n",
        "\n",
        "train_generator = train_datagen.flow_from_directory(train_dir,\n",
        "                                                    target_size=(150, 150),\n",
        "                                                    batch_size=32,\n",
        "                                                    class_mode='binary')\n",
        "\n",
        "validation_generator = test_datagen.flow_from_directory(validation_dir,\n",
        "                                                        target_size=(150, 150),\n",
        "                                                        batch_size=32,\n",
        "                                                        class_mode='binary')\n",
        "\n",
        "history = model.fit_generator(train_generator,\n",
        "                              # steps_per_epoch=100,\n",
        "                              epochs=20,\n",
        "                              validation_data=validation_generator,)\n",
        "                              # validation_steps=50)"
      ],
      "execution_count": 15,
      "outputs": [
        {
          "output_type": "stream",
          "text": [
            "Found 2000 images belonging to 2 classes.\n",
            "Found 1000 images belonging to 2 classes.\n"
          ],
          "name": "stdout"
        },
        {
          "output_type": "stream",
          "text": [
            "/usr/local/lib/python3.7/dist-packages/tensorflow/python/keras/engine/training.py:1844: UserWarning: `Model.fit_generator` is deprecated and will be removed in a future version. Please use `Model.fit`, which supports generators.\n",
            "  warnings.warn('`Model.fit_generator` is deprecated and '\n"
          ],
          "name": "stderr"
        },
        {
          "output_type": "stream",
          "text": [
            "Epoch 1/20\n",
            "63/63 [==============================] - 18s 271ms/step - loss: 0.7043 - acc: 0.4829 - val_loss: 0.6899 - val_acc: 0.5270\n",
            "Epoch 2/20\n",
            "63/63 [==============================] - 16s 261ms/step - loss: 0.6901 - acc: 0.5496 - val_loss: 0.6779 - val_acc: 0.5880\n",
            "Epoch 3/20\n",
            "63/63 [==============================] - 16s 262ms/step - loss: 0.6874 - acc: 0.5316 - val_loss: 0.6676 - val_acc: 0.5940\n",
            "Epoch 4/20\n",
            "63/63 [==============================] - 17s 263ms/step - loss: 0.6704 - acc: 0.5858 - val_loss: 0.6474 - val_acc: 0.6130\n",
            "Epoch 5/20\n",
            "63/63 [==============================] - 16s 261ms/step - loss: 0.6619 - acc: 0.5988 - val_loss: 0.6461 - val_acc: 0.6190\n",
            "Epoch 6/20\n",
            "63/63 [==============================] - 17s 263ms/step - loss: 0.6495 - acc: 0.6207 - val_loss: 0.6254 - val_acc: 0.6340\n",
            "Epoch 7/20\n",
            "63/63 [==============================] - 17s 263ms/step - loss: 0.6225 - acc: 0.6514 - val_loss: 0.6530 - val_acc: 0.5860\n",
            "Epoch 8/20\n",
            "63/63 [==============================] - 17s 263ms/step - loss: 0.6250 - acc: 0.6539 - val_loss: 0.6083 - val_acc: 0.6590\n",
            "Epoch 9/20\n",
            "63/63 [==============================] - 16s 261ms/step - loss: 0.6190 - acc: 0.6442 - val_loss: 0.6091 - val_acc: 0.6530\n",
            "Epoch 10/20\n",
            "63/63 [==============================] - 17s 265ms/step - loss: 0.6027 - acc: 0.6479 - val_loss: 0.6087 - val_acc: 0.6660\n",
            "Epoch 11/20\n",
            "63/63 [==============================] - 17s 263ms/step - loss: 0.5856 - acc: 0.6830 - val_loss: 0.5804 - val_acc: 0.6860\n",
            "Epoch 12/20\n",
            "63/63 [==============================] - 17s 264ms/step - loss: 0.6096 - acc: 0.6652 - val_loss: 0.5679 - val_acc: 0.7050\n",
            "Epoch 13/20\n",
            "63/63 [==============================] - 17s 271ms/step - loss: 0.5818 - acc: 0.6899 - val_loss: 0.5597 - val_acc: 0.6910\n",
            "Epoch 14/20\n",
            "63/63 [==============================] - 17s 273ms/step - loss: 0.5709 - acc: 0.6927 - val_loss: 0.5697 - val_acc: 0.6940\n",
            "Epoch 15/20\n",
            "63/63 [==============================] - 17s 263ms/step - loss: 0.5875 - acc: 0.6642 - val_loss: 0.5528 - val_acc: 0.6990\n",
            "Epoch 16/20\n",
            "63/63 [==============================] - 17s 264ms/step - loss: 0.5654 - acc: 0.7122 - val_loss: 0.5669 - val_acc: 0.6840\n",
            "Epoch 17/20\n",
            "63/63 [==============================] - 17s 262ms/step - loss: 0.5575 - acc: 0.7187 - val_loss: 0.5350 - val_acc: 0.7170\n",
            "Epoch 18/20\n",
            "63/63 [==============================] - 17s 263ms/step - loss: 0.5600 - acc: 0.7092 - val_loss: 0.5398 - val_acc: 0.7170\n",
            "Epoch 19/20\n",
            "63/63 [==============================] - 17s 263ms/step - loss: 0.5811 - acc: 0.6948 - val_loss: 0.5864 - val_acc: 0.6880\n",
            "Epoch 20/20\n",
            "63/63 [==============================] - 17s 262ms/step - loss: 0.5617 - acc: 0.6907 - val_loss: 0.5244 - val_acc: 0.7350\n"
          ],
          "name": "stdout"
        }
      ]
    },
    {
      "cell_type": "markdown",
      "metadata": {
        "id": "BRdU5yrkUF_b"
      },
      "source": [
        "# Task 2:\n",
        "\n",
        "We have used Dropout to enhance the performance of the CNN model. Can you please use whatever you like to further enhance the performance from `val_acc: 0.7506`? "
      ]
    },
    {
      "cell_type": "code",
      "metadata": {
        "colab": {
          "base_uri": "https://localhost:8080/"
        },
        "id": "Pey-H3KHPQKc",
        "outputId": "0556ccb3-0507-4d52-de0e-c1fa19e4586f"
      },
      "source": [
        "\n",
        "train_datagen = ImageDataGenerator(rescale=1./255,\n",
        "                                   rotation_range=20,\n",
        "                                   width_shift_range=0.1,\n",
        "                                   height_shift_range=0.1,\n",
        "                                   shear_range=0.1,\n",
        "                                   zoom_range=0.1,\n",
        "                                   horizontal_flip=True,)\n",
        "\n",
        "test_datagen = ImageDataGenerator(rescale=1./255)\n",
        "\n",
        "train_generator = train_datagen.flow_from_directory(train_dir,\n",
        "                                                    target_size=(150, 150),\n",
        "                                                    batch_size=8,\n",
        "                                                    class_mode='binary')\n",
        "\n",
        "validation_generator = test_datagen.flow_from_directory(validation_dir,\n",
        "                                                        target_size=(150, 150),\n",
        "                                                        batch_size=8,\n",
        "                                                        class_mode='binary')"
      ],
      "execution_count": 32,
      "outputs": [
        {
          "output_type": "stream",
          "text": [
            "Found 2000 images belonging to 2 classes.\n",
            "Found 1000 images belonging to 2 classes.\n"
          ],
          "name": "stdout"
        }
      ]
    },
    {
      "cell_type": "code",
      "metadata": {
        "id": "617-w23yKW5x"
      },
      "source": [
        "model = models.Sequential()\n",
        "model.add(layers.Conv2D(32, (3, 3), activation='relu',\n",
        "input_shape=(150, 150, 3)))\n",
        "model.add(layers.Activation('relu'))\n",
        "model.add(layers.MaxPooling2D((2, 2)))\n",
        "\n",
        "model.add(layers.Conv2D(64, (3, 3), activation='relu'))\n",
        "model.add(layers.MaxPooling2D((2, 2)))\n",
        "\n",
        "model.add(layers.Conv2D(128, (3, 3), activation='relu'))\n",
        "model.add(layers.MaxPooling2D((2, 2)))\n",
        "\n",
        "model.add(layers.Conv2D(256, (3, 3)))\n",
        "model.add(layers.BatchNormalization())\n",
        "model.add(layers.Activation('relu'))\n",
        "model.add(layers.MaxPooling2D((2, 2)))\n",
        "\n",
        "model.add(layers.Flatten())\n",
        "\n",
        "model.add(layers.Dropout(0.5))\n",
        "model.add(layers.Dense(512, activation='relu'))\n",
        "\n",
        "model.add(layers.Dense(1, activation='sigmoid'))\n",
        "\n",
        "model.compile(loss='binary_crossentropy',\n",
        "              optimizer='adam',\n",
        "              metrics=['accuracy'])"
      ],
      "execution_count": 33,
      "outputs": []
    },
    {
      "cell_type": "code",
      "metadata": {
        "id": "qYonH44yK_F5"
      },
      "source": [
        "import keras"
      ],
      "execution_count": 34,
      "outputs": []
    },
    {
      "cell_type": "code",
      "metadata": {
        "colab": {
          "base_uri": "https://localhost:8080/"
        },
        "id": "iWcFZbTtKZuE",
        "outputId": "12392e39-165d-4dc1-ac2e-c9c266605c2d"
      },
      "source": [
        "checkpoint = keras.callbacks.ModelCheckpoint('models/best_cat_dog.h5', \n",
        "                                             monitor='val_accuracy', \n",
        "                                             verbose=1, \n",
        "                                             save_best_only=True, \n",
        "                                             mode='max')\n",
        "\n",
        "history = model.fit_generator(train_generator,\n",
        "                              # steps_per_epoch=100,\n",
        "                              epochs=50,\n",
        "                              validation_data=validation_generator,\n",
        "                              callbacks=[checkpoint])"
      ],
      "execution_count": 35,
      "outputs": [
        {
          "output_type": "stream",
          "text": [
            "/usr/local/lib/python3.7/dist-packages/tensorflow/python/keras/engine/training.py:1844: UserWarning: `Model.fit_generator` is deprecated and will be removed in a future version. Please use `Model.fit`, which supports generators.\n",
            "  warnings.warn('`Model.fit_generator` is deprecated and '\n"
          ],
          "name": "stderr"
        },
        {
          "output_type": "stream",
          "text": [
            "Epoch 1/50\n",
            "250/250 [==============================] - 20s 79ms/step - loss: 1.2024 - accuracy: 0.5285 - val_loss: 0.7084 - val_accuracy: 0.5000\n",
            "\n",
            "Epoch 00001: val_accuracy improved from -inf to 0.50000, saving model to models/best_cat_dog.h5\n",
            "Epoch 2/50\n",
            "250/250 [==============================] - 19s 76ms/step - loss: 0.6931 - accuracy: 0.5776 - val_loss: 0.6898 - val_accuracy: 0.5090\n",
            "\n",
            "Epoch 00002: val_accuracy improved from 0.50000 to 0.50900, saving model to models/best_cat_dog.h5\n",
            "Epoch 3/50\n",
            "250/250 [==============================] - 19s 76ms/step - loss: 0.6796 - accuracy: 0.6030 - val_loss: 0.8065 - val_accuracy: 0.5000\n",
            "\n",
            "Epoch 00003: val_accuracy did not improve from 0.50900\n",
            "Epoch 4/50\n",
            "250/250 [==============================] - 19s 77ms/step - loss: 0.6698 - accuracy: 0.6219 - val_loss: 0.7408 - val_accuracy: 0.5090\n",
            "\n",
            "Epoch 00004: val_accuracy did not improve from 0.50900\n",
            "Epoch 5/50\n",
            "250/250 [==============================] - 19s 77ms/step - loss: 0.6598 - accuracy: 0.6147 - val_loss: 0.6532 - val_accuracy: 0.6040\n",
            "\n",
            "Epoch 00005: val_accuracy improved from 0.50900 to 0.60400, saving model to models/best_cat_dog.h5\n",
            "Epoch 6/50\n",
            "250/250 [==============================] - 19s 76ms/step - loss: 0.6655 - accuracy: 0.5968 - val_loss: 0.7020 - val_accuracy: 0.5330\n",
            "\n",
            "Epoch 00006: val_accuracy did not improve from 0.60400\n",
            "Epoch 7/50\n",
            "250/250 [==============================] - 18s 73ms/step - loss: 0.6525 - accuracy: 0.6277 - val_loss: 0.6614 - val_accuracy: 0.5910\n",
            "\n",
            "Epoch 00007: val_accuracy did not improve from 0.60400\n",
            "Epoch 8/50\n",
            "250/250 [==============================] - 18s 73ms/step - loss: 0.6574 - accuracy: 0.6120 - val_loss: 0.6371 - val_accuracy: 0.6360\n",
            "\n",
            "Epoch 00008: val_accuracy improved from 0.60400 to 0.63600, saving model to models/best_cat_dog.h5\n",
            "Epoch 9/50\n",
            "250/250 [==============================] - 19s 76ms/step - loss: 0.6387 - accuracy: 0.6360 - val_loss: 0.6935 - val_accuracy: 0.5220\n",
            "\n",
            "Epoch 00009: val_accuracy did not improve from 0.63600\n",
            "Epoch 10/50\n",
            "250/250 [==============================] - 19s 76ms/step - loss: 0.6432 - accuracy: 0.6333 - val_loss: 0.6258 - val_accuracy: 0.6530\n",
            "\n",
            "Epoch 00010: val_accuracy improved from 0.63600 to 0.65300, saving model to models/best_cat_dog.h5\n",
            "Epoch 11/50\n",
            "250/250 [==============================] - 19s 77ms/step - loss: 0.6284 - accuracy: 0.6558 - val_loss: 0.7183 - val_accuracy: 0.5070\n",
            "\n",
            "Epoch 00011: val_accuracy did not improve from 0.65300\n",
            "Epoch 12/50\n",
            "250/250 [==============================] - 19s 76ms/step - loss: 0.6365 - accuracy: 0.6528 - val_loss: 0.8203 - val_accuracy: 0.5440\n",
            "\n",
            "Epoch 00012: val_accuracy did not improve from 0.65300\n",
            "Epoch 13/50\n",
            "250/250 [==============================] - 19s 77ms/step - loss: 0.6191 - accuracy: 0.6721 - val_loss: 1.3288 - val_accuracy: 0.5050\n",
            "\n",
            "Epoch 00013: val_accuracy did not improve from 0.65300\n",
            "Epoch 14/50\n",
            "250/250 [==============================] - 19s 78ms/step - loss: 0.6275 - accuracy: 0.6520 - val_loss: 0.6472 - val_accuracy: 0.6750\n",
            "\n",
            "Epoch 00014: val_accuracy improved from 0.65300 to 0.67500, saving model to models/best_cat_dog.h5\n",
            "Epoch 15/50\n",
            "250/250 [==============================] - 20s 79ms/step - loss: 0.6195 - accuracy: 0.6463 - val_loss: 0.6067 - val_accuracy: 0.6990\n",
            "\n",
            "Epoch 00015: val_accuracy improved from 0.67500 to 0.69900, saving model to models/best_cat_dog.h5\n",
            "Epoch 16/50\n",
            "250/250 [==============================] - 19s 77ms/step - loss: 0.6230 - accuracy: 0.6479 - val_loss: 0.8782 - val_accuracy: 0.5120\n",
            "\n",
            "Epoch 00016: val_accuracy did not improve from 0.69900\n",
            "Epoch 17/50\n",
            "250/250 [==============================] - 19s 77ms/step - loss: 0.6432 - accuracy: 0.6468 - val_loss: 0.5946 - val_accuracy: 0.6710\n",
            "\n",
            "Epoch 00017: val_accuracy did not improve from 0.69900\n",
            "Epoch 18/50\n",
            "250/250 [==============================] - 19s 74ms/step - loss: 0.6002 - accuracy: 0.6820 - val_loss: 0.7355 - val_accuracy: 0.5820\n",
            "\n",
            "Epoch 00018: val_accuracy did not improve from 0.69900\n",
            "Epoch 19/50\n",
            "250/250 [==============================] - 18s 74ms/step - loss: 0.5924 - accuracy: 0.6893 - val_loss: 1.1345 - val_accuracy: 0.5180\n",
            "\n",
            "Epoch 00019: val_accuracy did not improve from 0.69900\n",
            "Epoch 20/50\n",
            "250/250 [==============================] - 18s 73ms/step - loss: 0.5680 - accuracy: 0.7030 - val_loss: 1.2070 - val_accuracy: 0.5760\n",
            "\n",
            "Epoch 00020: val_accuracy did not improve from 0.69900\n",
            "Epoch 21/50\n",
            "250/250 [==============================] - 18s 74ms/step - loss: 0.5688 - accuracy: 0.6985 - val_loss: 0.5949 - val_accuracy: 0.6640\n",
            "\n",
            "Epoch 00021: val_accuracy did not improve from 0.69900\n",
            "Epoch 22/50\n",
            "250/250 [==============================] - 19s 75ms/step - loss: 0.5696 - accuracy: 0.7140 - val_loss: 0.5992 - val_accuracy: 0.7000\n",
            "\n",
            "Epoch 00022: val_accuracy improved from 0.69900 to 0.70000, saving model to models/best_cat_dog.h5\n",
            "Epoch 23/50\n",
            "250/250 [==============================] - 19s 77ms/step - loss: 0.5687 - accuracy: 0.7048 - val_loss: 0.6566 - val_accuracy: 0.6040\n",
            "\n",
            "Epoch 00023: val_accuracy did not improve from 0.70000\n",
            "Epoch 24/50\n",
            "250/250 [==============================] - 19s 77ms/step - loss: 0.5492 - accuracy: 0.7174 - val_loss: 0.6301 - val_accuracy: 0.5730\n",
            "\n",
            "Epoch 00024: val_accuracy did not improve from 0.70000\n",
            "Epoch 25/50\n",
            "250/250 [==============================] - 19s 77ms/step - loss: 0.5198 - accuracy: 0.7398 - val_loss: 0.7353 - val_accuracy: 0.5350\n",
            "\n",
            "Epoch 00025: val_accuracy did not improve from 0.70000\n",
            "Epoch 26/50\n",
            "250/250 [==============================] - 19s 76ms/step - loss: 0.5330 - accuracy: 0.7350 - val_loss: 0.6090 - val_accuracy: 0.6180\n",
            "\n",
            "Epoch 00026: val_accuracy did not improve from 0.70000\n",
            "Epoch 27/50\n",
            "250/250 [==============================] - 19s 76ms/step - loss: 0.5429 - accuracy: 0.7215 - val_loss: 0.5431 - val_accuracy: 0.7410\n",
            "\n",
            "Epoch 00027: val_accuracy improved from 0.70000 to 0.74100, saving model to models/best_cat_dog.h5\n",
            "Epoch 28/50\n",
            "250/250 [==============================] - 19s 77ms/step - loss: 0.5390 - accuracy: 0.7189 - val_loss: 0.5192 - val_accuracy: 0.7410\n",
            "\n",
            "Epoch 00028: val_accuracy did not improve from 0.74100\n",
            "Epoch 29/50\n",
            "250/250 [==============================] - 19s 76ms/step - loss: 0.5290 - accuracy: 0.7322 - val_loss: 0.6857 - val_accuracy: 0.5950\n",
            "\n",
            "Epoch 00029: val_accuracy did not improve from 0.74100\n",
            "Epoch 30/50\n",
            "250/250 [==============================] - 19s 77ms/step - loss: 0.5276 - accuracy: 0.7460 - val_loss: 1.2448 - val_accuracy: 0.5280\n",
            "\n",
            "Epoch 00030: val_accuracy did not improve from 0.74100\n",
            "Epoch 31/50\n",
            "250/250 [==============================] - 20s 79ms/step - loss: 0.5131 - accuracy: 0.7470 - val_loss: 0.6722 - val_accuracy: 0.6050\n",
            "\n",
            "Epoch 00031: val_accuracy did not improve from 0.74100\n",
            "Epoch 32/50\n",
            "250/250 [==============================] - 20s 79ms/step - loss: 0.5549 - accuracy: 0.7223 - val_loss: 0.5279 - val_accuracy: 0.7170\n",
            "\n",
            "Epoch 00032: val_accuracy did not improve from 0.74100\n",
            "Epoch 33/50\n",
            "250/250 [==============================] - 19s 77ms/step - loss: 0.5002 - accuracy: 0.7624 - val_loss: 0.6011 - val_accuracy: 0.6800\n",
            "\n",
            "Epoch 00033: val_accuracy did not improve from 0.74100\n",
            "Epoch 34/50\n",
            "250/250 [==============================] - 19s 75ms/step - loss: 0.5181 - accuracy: 0.7460 - val_loss: 0.8679 - val_accuracy: 0.5630\n",
            "\n",
            "Epoch 00034: val_accuracy did not improve from 0.74100\n",
            "Epoch 35/50\n",
            "250/250 [==============================] - 19s 77ms/step - loss: 0.5150 - accuracy: 0.7494 - val_loss: 0.8052 - val_accuracy: 0.5790\n",
            "\n",
            "Epoch 00035: val_accuracy did not improve from 0.74100\n",
            "Epoch 36/50\n",
            "250/250 [==============================] - 19s 77ms/step - loss: 0.5194 - accuracy: 0.7525 - val_loss: 0.5747 - val_accuracy: 0.7510\n",
            "\n",
            "Epoch 00036: val_accuracy improved from 0.74100 to 0.75100, saving model to models/best_cat_dog.h5\n",
            "Epoch 37/50\n",
            "250/250 [==============================] - 20s 79ms/step - loss: 0.5179 - accuracy: 0.7494 - val_loss: 0.8642 - val_accuracy: 0.5140\n",
            "\n",
            "Epoch 00037: val_accuracy did not improve from 0.75100\n",
            "Epoch 38/50\n",
            "250/250 [==============================] - 19s 78ms/step - loss: 0.4955 - accuracy: 0.7571 - val_loss: 0.5292 - val_accuracy: 0.7340\n",
            "\n",
            "Epoch 00038: val_accuracy did not improve from 0.75100\n",
            "Epoch 39/50\n",
            "250/250 [==============================] - 19s 76ms/step - loss: 0.4995 - accuracy: 0.7578 - val_loss: 0.5891 - val_accuracy: 0.6520\n",
            "\n",
            "Epoch 00039: val_accuracy did not improve from 0.75100\n",
            "Epoch 40/50\n",
            "250/250 [==============================] - 19s 76ms/step - loss: 0.5086 - accuracy: 0.7595 - val_loss: 0.5445 - val_accuracy: 0.7440\n",
            "\n",
            "Epoch 00040: val_accuracy did not improve from 0.75100\n",
            "Epoch 41/50\n",
            "250/250 [==============================] - 20s 79ms/step - loss: 0.5000 - accuracy: 0.7480 - val_loss: 0.5736 - val_accuracy: 0.6930\n",
            "\n",
            "Epoch 00041: val_accuracy did not improve from 0.75100\n",
            "Epoch 42/50\n",
            "250/250 [==============================] - 20s 78ms/step - loss: 0.4999 - accuracy: 0.7542 - val_loss: 0.5235 - val_accuracy: 0.7330\n",
            "\n",
            "Epoch 00042: val_accuracy did not improve from 0.75100\n",
            "Epoch 43/50\n",
            "250/250 [==============================] - 20s 79ms/step - loss: 0.4942 - accuracy: 0.7602 - val_loss: 0.5524 - val_accuracy: 0.7340\n",
            "\n",
            "Epoch 00043: val_accuracy did not improve from 0.75100\n",
            "Epoch 44/50\n",
            "250/250 [==============================] - 21s 85ms/step - loss: 0.5109 - accuracy: 0.7538 - val_loss: 0.5622 - val_accuracy: 0.7070\n",
            "\n",
            "Epoch 00044: val_accuracy did not improve from 0.75100\n",
            "Epoch 45/50\n",
            "250/250 [==============================] - 20s 81ms/step - loss: 0.4988 - accuracy: 0.7631 - val_loss: 0.5029 - val_accuracy: 0.7620\n",
            "\n",
            "Epoch 00045: val_accuracy improved from 0.75100 to 0.76200, saving model to models/best_cat_dog.h5\n",
            "Epoch 46/50\n",
            "250/250 [==============================] - 20s 82ms/step - loss: 0.4994 - accuracy: 0.7565 - val_loss: 0.5452 - val_accuracy: 0.6980\n",
            "\n",
            "Epoch 00046: val_accuracy did not improve from 0.76200\n",
            "Epoch 47/50\n",
            "250/250 [==============================] - 20s 79ms/step - loss: 0.4931 - accuracy: 0.7620 - val_loss: 0.8333 - val_accuracy: 0.5710\n",
            "\n",
            "Epoch 00047: val_accuracy did not improve from 0.76200\n",
            "Epoch 48/50\n",
            "250/250 [==============================] - 19s 76ms/step - loss: 0.5136 - accuracy: 0.7773 - val_loss: 0.8912 - val_accuracy: 0.6370\n",
            "\n",
            "Epoch 00048: val_accuracy did not improve from 0.76200\n",
            "Epoch 49/50\n",
            "250/250 [==============================] - 19s 75ms/step - loss: 0.5014 - accuracy: 0.7522 - val_loss: 0.4719 - val_accuracy: 0.7810\n",
            "\n",
            "Epoch 00049: val_accuracy improved from 0.76200 to 0.78100, saving model to models/best_cat_dog.h5\n",
            "Epoch 50/50\n",
            "250/250 [==============================] - 19s 77ms/step - loss: 0.4717 - accuracy: 0.7626 - val_loss: 0.6502 - val_accuracy: 0.6150\n",
            "\n",
            "Epoch 00050: val_accuracy did not improve from 0.78100\n"
          ],
          "name": "stdout"
        }
      ]
    },
    {
      "cell_type": "code",
      "metadata": {
        "id": "Qxd3lPdwLn9F"
      },
      "source": [
        ""
      ],
      "execution_count": null,
      "outputs": []
    }
  ]
}