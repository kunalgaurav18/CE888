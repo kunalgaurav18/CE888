{
  "nbformat": 4,
  "nbformat_minor": 0,
  "metadata": {
    "colab": {
      "name": "bank _classification.ipynb",
      "provenance": [],
      "authorship_tag": "ABX9TyPs9js6syyfR6pbisu/8ueF",
      "include_colab_link": true
    },
    "kernelspec": {
      "name": "python3",
      "display_name": "Python 3"
    }
  },
  "cells": [
    {
      "cell_type": "markdown",
      "metadata": {
        "id": "view-in-github",
        "colab_type": "text"
      },
      "source": [
        "<a href=\"https://colab.research.google.com/github/kunalgaurav18/CE888/blob/main/Lab_3/bank__classification.ipynb\" target=\"_parent\"><img src=\"https://colab.research.google.com/assets/colab-badge.svg\" alt=\"Open In Colab\"/></a>"
      ]
    },
    {
      "cell_type": "code",
      "metadata": {
        "id": "NRpEV_Skjtyf"
      },
      "source": [
        "import numpy as np\r\n",
        "import pandas as pd\r\n",
        "import seaborn as sns"
      ],
      "execution_count": 1,
      "outputs": []
    },
    {
      "cell_type": "code",
      "metadata": {
        "colab": {
          "base_uri": "https://localhost:8080/",
          "height": 224
        },
        "id": "MJ8hA9cvkAct",
        "outputId": "f229a216-cd53-4fce-a52f-30c1dbfa1089"
      },
      "source": [
        "bank_df = pd.read_csv('https://raw.githubusercontent.com/albanda/CE888/master/lab3/bank-additional-full.csv', sep=';')\r\n",
        "bank_df.head()"
      ],
      "execution_count": 3,
      "outputs": [
        {
          "output_type": "execute_result",
          "data": {
            "text/html": [
              "<div>\n",
              "<style scoped>\n",
              "    .dataframe tbody tr th:only-of-type {\n",
              "        vertical-align: middle;\n",
              "    }\n",
              "\n",
              "    .dataframe tbody tr th {\n",
              "        vertical-align: top;\n",
              "    }\n",
              "\n",
              "    .dataframe thead th {\n",
              "        text-align: right;\n",
              "    }\n",
              "</style>\n",
              "<table border=\"1\" class=\"dataframe\">\n",
              "  <thead>\n",
              "    <tr style=\"text-align: right;\">\n",
              "      <th></th>\n",
              "      <th>age</th>\n",
              "      <th>job</th>\n",
              "      <th>marital</th>\n",
              "      <th>education</th>\n",
              "      <th>default</th>\n",
              "      <th>housing</th>\n",
              "      <th>loan</th>\n",
              "      <th>contact</th>\n",
              "      <th>month</th>\n",
              "      <th>day_of_week</th>\n",
              "      <th>duration</th>\n",
              "      <th>campaign</th>\n",
              "      <th>pdays</th>\n",
              "      <th>previous</th>\n",
              "      <th>poutcome</th>\n",
              "      <th>emp.var.rate</th>\n",
              "      <th>cons.price.idx</th>\n",
              "      <th>cons.conf.idx</th>\n",
              "      <th>euribor3m</th>\n",
              "      <th>nr.employed</th>\n",
              "      <th>y</th>\n",
              "    </tr>\n",
              "  </thead>\n",
              "  <tbody>\n",
              "    <tr>\n",
              "      <th>0</th>\n",
              "      <td>56</td>\n",
              "      <td>housemaid</td>\n",
              "      <td>married</td>\n",
              "      <td>basic.4y</td>\n",
              "      <td>no</td>\n",
              "      <td>no</td>\n",
              "      <td>no</td>\n",
              "      <td>telephone</td>\n",
              "      <td>may</td>\n",
              "      <td>mon</td>\n",
              "      <td>261</td>\n",
              "      <td>1</td>\n",
              "      <td>999</td>\n",
              "      <td>0</td>\n",
              "      <td>nonexistent</td>\n",
              "      <td>1.1</td>\n",
              "      <td>93.994</td>\n",
              "      <td>-36.4</td>\n",
              "      <td>4.857</td>\n",
              "      <td>5191.0</td>\n",
              "      <td>no</td>\n",
              "    </tr>\n",
              "    <tr>\n",
              "      <th>1</th>\n",
              "      <td>57</td>\n",
              "      <td>services</td>\n",
              "      <td>married</td>\n",
              "      <td>high.school</td>\n",
              "      <td>unknown</td>\n",
              "      <td>no</td>\n",
              "      <td>no</td>\n",
              "      <td>telephone</td>\n",
              "      <td>may</td>\n",
              "      <td>mon</td>\n",
              "      <td>149</td>\n",
              "      <td>1</td>\n",
              "      <td>999</td>\n",
              "      <td>0</td>\n",
              "      <td>nonexistent</td>\n",
              "      <td>1.1</td>\n",
              "      <td>93.994</td>\n",
              "      <td>-36.4</td>\n",
              "      <td>4.857</td>\n",
              "      <td>5191.0</td>\n",
              "      <td>no</td>\n",
              "    </tr>\n",
              "    <tr>\n",
              "      <th>2</th>\n",
              "      <td>37</td>\n",
              "      <td>services</td>\n",
              "      <td>married</td>\n",
              "      <td>high.school</td>\n",
              "      <td>no</td>\n",
              "      <td>yes</td>\n",
              "      <td>no</td>\n",
              "      <td>telephone</td>\n",
              "      <td>may</td>\n",
              "      <td>mon</td>\n",
              "      <td>226</td>\n",
              "      <td>1</td>\n",
              "      <td>999</td>\n",
              "      <td>0</td>\n",
              "      <td>nonexistent</td>\n",
              "      <td>1.1</td>\n",
              "      <td>93.994</td>\n",
              "      <td>-36.4</td>\n",
              "      <td>4.857</td>\n",
              "      <td>5191.0</td>\n",
              "      <td>no</td>\n",
              "    </tr>\n",
              "    <tr>\n",
              "      <th>3</th>\n",
              "      <td>40</td>\n",
              "      <td>admin.</td>\n",
              "      <td>married</td>\n",
              "      <td>basic.6y</td>\n",
              "      <td>no</td>\n",
              "      <td>no</td>\n",
              "      <td>no</td>\n",
              "      <td>telephone</td>\n",
              "      <td>may</td>\n",
              "      <td>mon</td>\n",
              "      <td>151</td>\n",
              "      <td>1</td>\n",
              "      <td>999</td>\n",
              "      <td>0</td>\n",
              "      <td>nonexistent</td>\n",
              "      <td>1.1</td>\n",
              "      <td>93.994</td>\n",
              "      <td>-36.4</td>\n",
              "      <td>4.857</td>\n",
              "      <td>5191.0</td>\n",
              "      <td>no</td>\n",
              "    </tr>\n",
              "    <tr>\n",
              "      <th>4</th>\n",
              "      <td>56</td>\n",
              "      <td>services</td>\n",
              "      <td>married</td>\n",
              "      <td>high.school</td>\n",
              "      <td>no</td>\n",
              "      <td>no</td>\n",
              "      <td>yes</td>\n",
              "      <td>telephone</td>\n",
              "      <td>may</td>\n",
              "      <td>mon</td>\n",
              "      <td>307</td>\n",
              "      <td>1</td>\n",
              "      <td>999</td>\n",
              "      <td>0</td>\n",
              "      <td>nonexistent</td>\n",
              "      <td>1.1</td>\n",
              "      <td>93.994</td>\n",
              "      <td>-36.4</td>\n",
              "      <td>4.857</td>\n",
              "      <td>5191.0</td>\n",
              "      <td>no</td>\n",
              "    </tr>\n",
              "  </tbody>\n",
              "</table>\n",
              "</div>"
            ],
            "text/plain": [
              "   age        job  marital  ... euribor3m nr.employed   y\n",
              "0   56  housemaid  married  ...     4.857      5191.0  no\n",
              "1   57   services  married  ...     4.857      5191.0  no\n",
              "2   37   services  married  ...     4.857      5191.0  no\n",
              "3   40     admin.  married  ...     4.857      5191.0  no\n",
              "4   56   services  married  ...     4.857      5191.0  no\n",
              "\n",
              "[5 rows x 21 columns]"
            ]
          },
          "metadata": {
            "tags": []
          },
          "execution_count": 3
        }
      ]
    },
    {
      "cell_type": "code",
      "metadata": {
        "id": "YaOJfkNEkmeN"
      },
      "source": [
        "from sklearn.preprocessing import LabelEncoder\r\n",
        "from sklearn.model_selection import train_test_split, StratifiedKFold, cross_val_score, GridSearchCV\r\n",
        "from sklearn.ensemble import RandomForestClassifier\r\n",
        "from sklearn.metrics import SCORERS, accuracy_score as acc, f1_score as f1\r\n",
        "from sklearn.dummy import DummyClassifier"
      ],
      "execution_count": 110,
      "outputs": []
    },
    {
      "cell_type": "code",
      "metadata": {
        "id": "sEj_xQ0IlgTn"
      },
      "source": [
        "le = LabelEncoder()\r\n",
        "bank_df['y'] = le.fit_transform(bank_df['y'])"
      ],
      "execution_count": 10,
      "outputs": []
    },
    {
      "cell_type": "code",
      "metadata": {
        "id": "6xdcKKy9lsqB"
      },
      "source": [
        "dummies = pd.get_dummies(bank_df)"
      ],
      "execution_count": 13,
      "outputs": []
    },
    {
      "cell_type": "code",
      "metadata": {
        "id": "quekftJ0l5yQ"
      },
      "source": [
        "dummies.drop('duration', axis=1, inplace=True)"
      ],
      "execution_count": 15,
      "outputs": []
    },
    {
      "cell_type": "code",
      "metadata": {
        "colab": {
          "base_uri": "https://localhost:8080/"
        },
        "id": "aEjlOvc8EidC",
        "outputId": "547bab24-e872-44cc-8af4-a6aa4403431b"
      },
      "source": [
        "bank_df.info()"
      ],
      "execution_count": 112,
      "outputs": [
        {
          "output_type": "stream",
          "text": [
            "<class 'pandas.core.frame.DataFrame'>\n",
            "RangeIndex: 41188 entries, 0 to 41187\n",
            "Data columns (total 21 columns):\n",
            " #   Column          Non-Null Count  Dtype  \n",
            "---  ------          --------------  -----  \n",
            " 0   age             41188 non-null  int64  \n",
            " 1   job             41188 non-null  object \n",
            " 2   marital         41188 non-null  object \n",
            " 3   education       41188 non-null  object \n",
            " 4   default         41188 non-null  object \n",
            " 5   housing         41188 non-null  object \n",
            " 6   loan            41188 non-null  object \n",
            " 7   contact         41188 non-null  object \n",
            " 8   month           41188 non-null  object \n",
            " 9   day_of_week     41188 non-null  object \n",
            " 10  duration        41188 non-null  int64  \n",
            " 11  campaign        41188 non-null  int64  \n",
            " 12  pdays           41188 non-null  int64  \n",
            " 13  previous        41188 non-null  int64  \n",
            " 14  poutcome        41188 non-null  object \n",
            " 15  emp.var.rate    41188 non-null  float64\n",
            " 16  cons.price.idx  41188 non-null  float64\n",
            " 17  cons.conf.idx   41188 non-null  float64\n",
            " 18  euribor3m       41188 non-null  float64\n",
            " 19  nr.employed     41188 non-null  float64\n",
            " 20  y               41188 non-null  int64  \n",
            "dtypes: float64(5), int64(6), object(10)\n",
            "memory usage: 6.6+ MB\n"
          ],
          "name": "stdout"
        }
      ]
    },
    {
      "cell_type": "code",
      "metadata": {
        "colab": {
          "base_uri": "https://localhost:8080/"
        },
        "id": "krQFhLHwmLvC",
        "outputId": "b20a2eef-72e2-4c41-9291-a6c5ed07b17c"
      },
      "source": [
        "dummies.isna().sum()"
      ],
      "execution_count": 20,
      "outputs": [
        {
          "output_type": "execute_result",
          "data": {
            "text/plain": [
              "age                     0\n",
              "campaign                0\n",
              "pdays                   0\n",
              "previous                0\n",
              "emp.var.rate            0\n",
              "                       ..\n",
              "day_of_week_tue         0\n",
              "day_of_week_wed         0\n",
              "poutcome_failure        0\n",
              "poutcome_nonexistent    0\n",
              "poutcome_success        0\n",
              "Length: 63, dtype: int64"
            ]
          },
          "metadata": {
            "tags": []
          },
          "execution_count": 20
        }
      ]
    },
    {
      "cell_type": "code",
      "metadata": {
        "colab": {
          "base_uri": "https://localhost:8080/",
          "height": 296
        },
        "id": "3V6jgCQGmv3R",
        "outputId": "2e9fab70-0124-4d01-a50c-0137865f5269"
      },
      "source": [
        "sns.countplot(data=dummies, x='y')"
      ],
      "execution_count": 22,
      "outputs": [
        {
          "output_type": "execute_result",
          "data": {
            "text/plain": [
              "<matplotlib.axes._subplots.AxesSubplot at 0x7f9c612cecc0>"
            ]
          },
          "metadata": {
            "tags": []
          },
          "execution_count": 22
        },
        {
          "output_type": "display_data",
          "data": {
            "image/png": "[encoded data removed]",
            "text/plain": [
              "<Figure size 432x288 with 1 Axes>"
            ]
          },
          "metadata": {
            "tags": [],
            "needs_background": "light"
          }
        }
      ]
    },
    {
      "cell_type": "code",
      "metadata": {
        "id": "tNGDJVmanSN2"
      },
      "source": [
        "x = dummies.drop('y', axis=1)\r\n",
        "y = dummies['y']"
      ],
      "execution_count": 27,
      "outputs": []
    },
    {
      "cell_type": "code",
      "metadata": {
        "id": "B8_Dy8xsm_Y3"
      },
      "source": [
        "x_train, x_test, y_train, y_test = train_test_split(x, y, stratify=y, random_state=50, test_size=0.2)"
      ],
      "execution_count": 29,
      "outputs": []
    },
    {
      "cell_type": "code",
      "metadata": {
        "colab": {
          "base_uri": "https://localhost:8080/"
        },
        "id": "oHh3noSOn1bB",
        "outputId": "33dbc412-9e28-455b-afe7-bbfbb40a9b83"
      },
      "source": [
        "cv = StratifiedKFold(n_splits=10, random_state=50, shuffle=True)\r\n",
        "clf = RandomForestClassifier(n_estimators=100, max_depth=3)\r\n",
        "clf.fit(x_train, y_train)"
      ],
      "execution_count": 49,
      "outputs": [
        {
          "output_type": "execute_result",
          "data": {
            "text/plain": [
              "RandomForestClassifier(bootstrap=True, ccp_alpha=0.0, class_weight=None,\n",
              "                       criterion='gini', max_depth=3, max_features='auto',\n",
              "                       max_leaf_nodes=None, max_samples=None,\n",
              "                       min_impurity_decrease=0.0, min_impurity_split=None,\n",
              "                       min_samples_leaf=1, min_samples_split=2,\n",
              "                       min_weight_fraction_leaf=0.0, n_estimators=100,\n",
              "                       n_jobs=None, oob_score=False, random_state=None,\n",
              "                       verbose=0, warm_start=False)"
            ]
          },
          "metadata": {
            "tags": []
          },
          "execution_count": 49
        }
      ]
    },
    {
      "cell_type": "code",
      "metadata": {
        "colab": {
          "base_uri": "https://localhost:8080/"
        },
        "id": "QKXk01i3o0aW",
        "outputId": "9741c3f7-8faa-4a8a-cc73-f8d5a867deb8"
      },
      "source": [
        "scores = cross_val_score(clf, x_train, y_train, cv=cv, n_jobs=-1, scoring='accuracy', verbose=10)"
      ],
      "execution_count": 55,
      "outputs": [
        {
          "output_type": "stream",
          "text": [
            "[Parallel(n_jobs=-1)]: Using backend LokyBackend with 2 concurrent workers.\n",
            "[Parallel(n_jobs=-1)]: Done   1 tasks      | elapsed:    1.4s\n",
            "[Parallel(n_jobs=-1)]: Done   4 tasks      | elapsed:    2.8s\n",
            "[Parallel(n_jobs=-1)]: Done  10 out of  10 | elapsed:    7.0s finished\n"
          ],
          "name": "stderr"
        }
      ]
    },
    {
      "cell_type": "code",
      "metadata": {
        "colab": {
          "base_uri": "https://localhost:8080/"
        },
        "id": "jom1LFb8secn",
        "outputId": "92235e69-51d7-4ebd-8321-7759171ff321"
      },
      "source": [
        "scores"
      ],
      "execution_count": 57,
      "outputs": [
        {
          "output_type": "execute_result",
          "data": {
            "text/plain": [
              "array([0.89559939, 0.90227618, 0.89924127, 0.89256449, 0.89802731,\n",
              "       0.90197269, 0.89559939, 0.89863429, 0.89802731, 0.89772382])"
            ]
          },
          "metadata": {
            "tags": []
          },
          "execution_count": 57
        }
      ]
    },
    {
      "cell_type": "code",
      "metadata": {
        "colab": {
          "base_uri": "https://localhost:8080/"
        },
        "id": "sdEsG28fqzAh",
        "outputId": "2fa710ee-450d-4ac5-b0a5-bc3990fc6000"
      },
      "source": [
        "sorted(SCORERS.keys())"
      ],
      "execution_count": 43,
      "outputs": [
        {
          "output_type": "execute_result",
          "data": {
            "text/plain": [
              "['accuracy',\n",
              " 'adjusted_mutual_info_score',\n",
              " 'adjusted_rand_score',\n",
              " 'average_precision',\n",
              " 'balanced_accuracy',\n",
              " 'completeness_score',\n",
              " 'explained_variance',\n",
              " 'f1',\n",
              " 'f1_macro',\n",
              " 'f1_micro',\n",
              " 'f1_samples',\n",
              " 'f1_weighted',\n",
              " 'fowlkes_mallows_score',\n",
              " 'homogeneity_score',\n",
              " 'jaccard',\n",
              " 'jaccard_macro',\n",
              " 'jaccard_micro',\n",
              " 'jaccard_samples',\n",
              " 'jaccard_weighted',\n",
              " 'max_error',\n",
              " 'mutual_info_score',\n",
              " 'neg_brier_score',\n",
              " 'neg_log_loss',\n",
              " 'neg_mean_absolute_error',\n",
              " 'neg_mean_gamma_deviance',\n",
              " 'neg_mean_poisson_deviance',\n",
              " 'neg_mean_squared_error',\n",
              " 'neg_mean_squared_log_error',\n",
              " 'neg_median_absolute_error',\n",
              " 'neg_root_mean_squared_error',\n",
              " 'normalized_mutual_info_score',\n",
              " 'precision',\n",
              " 'precision_macro',\n",
              " 'precision_micro',\n",
              " 'precision_samples',\n",
              " 'precision_weighted',\n",
              " 'r2',\n",
              " 'recall',\n",
              " 'recall_macro',\n",
              " 'recall_micro',\n",
              " 'recall_samples',\n",
              " 'recall_weighted',\n",
              " 'roc_auc',\n",
              " 'roc_auc_ovo',\n",
              " 'roc_auc_ovo_weighted',\n",
              " 'roc_auc_ovr',\n",
              " 'roc_auc_ovr_weighted',\n",
              " 'v_measure_score']"
            ]
          },
          "metadata": {
            "tags": []
          },
          "execution_count": 43
        }
      ]
    },
    {
      "cell_type": "code",
      "metadata": {
        "colab": {
          "base_uri": "https://localhost:8080/"
        },
        "id": "M5a1CIi6rW9B",
        "outputId": "250373af-f05b-4b00-b85d-263e9e584170"
      },
      "source": [
        "dummyClf = DummyClassifier(strategy='stratified')\r\n",
        "dummyClf.fit(x_train, y_train)"
      ],
      "execution_count": 103,
      "outputs": [
        {
          "output_type": "execute_result",
          "data": {
            "text/plain": [
              "DummyClassifier(constant=None, random_state=None, strategy='stratified')"
            ]
          },
          "metadata": {
            "tags": []
          },
          "execution_count": 103
        }
      ]
    },
    {
      "cell_type": "code",
      "metadata": {
        "colab": {
          "base_uri": "https://localhost:8080/"
        },
        "id": "L_wkbAs_8w3Y",
        "outputId": "c0e4afa1-a164-4d5b-c54e-82e0adb19eb3"
      },
      "source": [
        "dummy_score = cross_val_score(dummyClf, x_train, y=y_train, scoring='f1', cv=10)\r\n",
        "dummy_score.mean()"
      ],
      "execution_count": 104,
      "outputs": [
        {
          "output_type": "execute_result",
          "data": {
            "text/plain": [
              "0.10840392795393597"
            ]
          },
          "metadata": {
            "tags": []
          },
          "execution_count": 104
        }
      ]
    },
    {
      "cell_type": "code",
      "metadata": {
        "colab": {
          "base_uri": "https://localhost:8080/"
        },
        "id": "FIHgR3y_rgMv",
        "outputId": "9569cdc4-79e2-4d41-d09d-e57a8fb6265d"
      },
      "source": [
        "acc(y_test, dummyClf.predict(x_test))"
      ],
      "execution_count": 59,
      "outputs": [
        {
          "output_type": "execute_result",
          "data": {
            "text/plain": [
              "0.8014081087642632"
            ]
          },
          "metadata": {
            "tags": []
          },
          "execution_count": 59
        }
      ]
    },
    {
      "cell_type": "code",
      "metadata": {
        "colab": {
          "base_uri": "https://localhost:8080/"
        },
        "id": "0LeZYb-Sr6hn",
        "outputId": "b53ad6be-75e1-4df4-fcc2-5882bc5fd5bb"
      },
      "source": [
        "acc(y_test, clf.predict(x_test))"
      ],
      "execution_count": 60,
      "outputs": [
        {
          "output_type": "execute_result",
          "data": {
            "text/plain": [
              "0.8999757222626851"
            ]
          },
          "metadata": {
            "tags": []
          },
          "execution_count": 60
        }
      ]
    },
    {
      "cell_type": "code",
      "metadata": {
        "colab": {
          "base_uri": "https://localhost:8080/"
        },
        "id": "SmKtGwixsFZz",
        "outputId": "ecf51349-01b9-46f4-ad45-cebd0838d093"
      },
      "source": [
        "params = { \r\n",
        "    'n_estimators': [50, 100, 200, 500],\r\n",
        "    'max_features': ['auto', 'sqrt', 'log2'],\r\n",
        "    'max_depth' : [4,5,6,7,8, 10],\r\n",
        "    'criterion' :['gini', 'entropy']\r\n",
        "}\r\n",
        "\r\n",
        "grid_search = GridSearchCV(estimator=RandomForestClassifier(), param_grid=params, scoring='accuracy', n_jobs=-1, verbose=10)\r\n",
        "grid_search.fit(x_train, y_train)"
      ],
      "execution_count": 63,
      "outputs": [
        {
          "output_type": "stream",
          "text": [
            "Fitting 5 folds for each of 144 candidates, totalling 720 fits\n"
          ],
          "name": "stdout"
        },
        {
          "output_type": "stream",
          "text": [
            "[Parallel(n_jobs=-1)]: Using backend LokyBackend with 2 concurrent workers.\n",
            "[Parallel(n_jobs=-1)]: Done   1 tasks      | elapsed:    2.0s\n",
            "[Parallel(n_jobs=-1)]: Done   4 tasks      | elapsed:    2.8s\n",
            "[Parallel(n_jobs=-1)]: Done   9 tasks      | elapsed:    6.6s\n",
            "[Parallel(n_jobs=-1)]: Done  14 tasks      | elapsed:   13.3s\n",
            "[Parallel(n_jobs=-1)]: Done  21 tasks      | elapsed:   31.7s\n",
            "[Parallel(n_jobs=-1)]: Done  28 tasks      | elapsed:   37.0s\n",
            "[Parallel(n_jobs=-1)]: Done  37 tasks      | elapsed:   54.8s\n",
            "[Parallel(n_jobs=-1)]: Done  46 tasks      | elapsed:  1.1min\n",
            "[Parallel(n_jobs=-1)]: Done  57 tasks      | elapsed:  1.4min\n",
            "[Parallel(n_jobs=-1)]: Done  68 tasks      | elapsed:  1.6min\n",
            "[Parallel(n_jobs=-1)]: Done  81 tasks      | elapsed:  2.1min\n",
            "[Parallel(n_jobs=-1)]: Done  94 tasks      | elapsed:  2.4min\n",
            "[Parallel(n_jobs=-1)]: Done 109 tasks      | elapsed:  2.9min\n",
            "[Parallel(n_jobs=-1)]: Done 124 tasks      | elapsed:  3.3min\n",
            "[Parallel(n_jobs=-1)]: Done 141 tasks      | elapsed:  3.9min\n",
            "[Parallel(n_jobs=-1)]: Done 158 tasks      | elapsed:  4.6min\n",
            "[Parallel(n_jobs=-1)]: Done 177 tasks      | elapsed:  5.1min\n",
            "[Parallel(n_jobs=-1)]: Done 196 tasks      | elapsed:  5.7min\n",
            "[Parallel(n_jobs=-1)]: Done 217 tasks      | elapsed:  6.6min\n",
            "[Parallel(n_jobs=-1)]: Done 238 tasks      | elapsed:  7.3min\n",
            "[Parallel(n_jobs=-1)]: Done 261 tasks      | elapsed:  8.3min\n",
            "[Parallel(n_jobs=-1)]: Done 284 tasks      | elapsed:  9.2min\n",
            "[Parallel(n_jobs=-1)]: Done 309 tasks      | elapsed: 10.0min\n",
            "[Parallel(n_jobs=-1)]: Done 334 tasks      | elapsed: 11.3min\n",
            "[Parallel(n_jobs=-1)]: Done 361 tasks      | elapsed: 12.7min\n",
            "[Parallel(n_jobs=-1)]: Done 388 tasks      | elapsed: 13.4min\n",
            "[Parallel(n_jobs=-1)]: Done 417 tasks      | elapsed: 14.2min\n",
            "[Parallel(n_jobs=-1)]: Done 446 tasks      | elapsed: 15.0min\n",
            "[Parallel(n_jobs=-1)]: Done 477 tasks      | elapsed: 15.9min\n",
            "[Parallel(n_jobs=-1)]: Done 508 tasks      | elapsed: 16.9min\n",
            "[Parallel(n_jobs=-1)]: Done 541 tasks      | elapsed: 18.1min\n",
            "[Parallel(n_jobs=-1)]: Done 574 tasks      | elapsed: 19.1min\n",
            "[Parallel(n_jobs=-1)]: Done 609 tasks      | elapsed: 20.4min\n",
            "[Parallel(n_jobs=-1)]: Done 644 tasks      | elapsed: 22.0min\n",
            "[Parallel(n_jobs=-1)]: Done 681 tasks      | elapsed: 23.7min\n",
            "[Parallel(n_jobs=-1)]: Done 720 out of 720 | elapsed: 25.6min finished\n"
          ],
          "name": "stderr"
        },
        {
          "output_type": "execute_result",
          "data": {
            "text/plain": [
              "GridSearchCV(cv=None, error_score=nan,\n",
              "             estimator=RandomForestClassifier(bootstrap=True, ccp_alpha=0.0,\n",
              "                                              class_weight=None,\n",
              "                                              criterion='gini', max_depth=None,\n",
              "                                              max_features='auto',\n",
              "                                              max_leaf_nodes=None,\n",
              "                                              max_samples=None,\n",
              "                                              min_impurity_decrease=0.0,\n",
              "                                              min_impurity_split=None,\n",
              "                                              min_samples_leaf=1,\n",
              "                                              min_samples_split=2,\n",
              "                                              min_weight_fraction_leaf=0.0,\n",
              "                                              n_estimators=100, n_jobs=None,\n",
              "                                              oob_score=False,\n",
              "                                              random_state=None, verbose=0,\n",
              "                                              warm_start=False),\n",
              "             iid='deprecated', n_jobs=-1,\n",
              "             param_grid={'criterion': ['gini', 'entropy'],\n",
              "                         'max_depth': [4, 5, 6, 7, 8, 10],\n",
              "                         'max_features': ['auto', 'sqrt', 'log2'],\n",
              "                         'n_estimators': [50, 100, 200, 500]},\n",
              "             pre_dispatch='2*n_jobs', refit=True, return_train_score=False,\n",
              "             scoring='accuracy', verbose=10)"
            ]
          },
          "metadata": {
            "tags": []
          },
          "execution_count": 63
        }
      ]
    },
    {
      "cell_type": "code",
      "metadata": {
        "colab": {
          "base_uri": "https://localhost:8080/"
        },
        "id": "iERJaOMl0P96",
        "outputId": "a3a2cfa5-f1db-46f6-d29c-ed266bbabf7c"
      },
      "source": [
        "grid_search.best_score_"
      ],
      "execution_count": 64,
      "outputs": [
        {
          "output_type": "execute_result",
          "data": {
            "text/plain": [
              "0.9007890743550835"
            ]
          },
          "metadata": {
            "tags": []
          },
          "execution_count": 64
        }
      ]
    },
    {
      "cell_type": "code",
      "metadata": {
        "colab": {
          "base_uri": "https://localhost:8080/"
        },
        "id": "KXQWd5XbuR5z",
        "outputId": "3171d66f-fb12-4eb3-9d48-db34d3912d6b"
      },
      "source": [
        "scores_cv = cross_val_score(estimator=grid_search.best_estimator_, X=x_train, \r\n",
        "                            y=y_train, cv=cv, n_jobs=-1, scoring='accuracy', verbose=10)"
      ],
      "execution_count": 66,
      "outputs": [
        {
          "output_type": "stream",
          "text": [
            "[Parallel(n_jobs=-1)]: Using backend LokyBackend with 2 concurrent workers.\n",
            "[Parallel(n_jobs=-1)]: Done   1 tasks      | elapsed:    3.2s\n",
            "[Parallel(n_jobs=-1)]: Done   4 tasks      | elapsed:    6.3s\n",
            "[Parallel(n_jobs=-1)]: Done  10 out of  10 | elapsed:   15.7s finished\n"
          ],
          "name": "stderr"
        }
      ]
    },
    {
      "cell_type": "code",
      "metadata": {
        "colab": {
          "base_uri": "https://localhost:8080/"
        },
        "id": "_YMfL1sz023a",
        "outputId": "9c744db0-cc0b-4d37-ed2b-800388fcb991"
      },
      "source": [
        "scores_cv"
      ],
      "execution_count": 67,
      "outputs": [
        {
          "output_type": "execute_result",
          "data": {
            "text/plain": [
              "array([0.89742033, 0.907739  , 0.90288316, 0.89317147, 0.90075873,\n",
              "       0.90500759, 0.89924127, 0.89924127, 0.90015175, 0.89924127])"
            ]
          },
          "metadata": {
            "tags": []
          },
          "execution_count": 67
        }
      ]
    },
    {
      "cell_type": "code",
      "metadata": {
        "colab": {
          "base_uri": "https://localhost:8080/"
        },
        "id": "pk1q372004XM",
        "outputId": "43b6f982-639f-465c-a168-91e563789406"
      },
      "source": [
        "dummies['y'].value_counts().iloc[1]/dummies['y'].value_counts().sum()"
      ],
      "execution_count": 74,
      "outputs": [
        {
          "output_type": "execute_result",
          "data": {
            "text/plain": [
              "0.11265417111780131"
            ]
          },
          "metadata": {
            "tags": []
          },
          "execution_count": 74
        }
      ]
    },
    {
      "cell_type": "code",
      "metadata": {
        "id": "AYLqjUiE1i1b"
      },
      "source": [
        "dummy_f1_score = cross_val_score(estimator=dummyClf, cv=cv, scoring='f1', X=x_train, y=y_train) "
      ],
      "execution_count": 75,
      "outputs": []
    },
    {
      "cell_type": "code",
      "metadata": {
        "colab": {
          "base_uri": "https://localhost:8080/"
        },
        "id": "ByOJxvdv1_w1",
        "outputId": "94de19b0-a10f-4d7d-fcda-b4dfa9490ad6"
      },
      "source": [
        "dummies.shape"
      ],
      "execution_count": 78,
      "outputs": [
        {
          "output_type": "execute_result",
          "data": {
            "text/plain": [
              "(41188, 63)"
            ]
          },
          "metadata": {
            "tags": []
          },
          "execution_count": 78
        }
      ]
    },
    {
      "cell_type": "code",
      "metadata": {
        "id": "RpEUPDSV2RlF"
      },
      "source": [
        "rfclf = RandomForestClassifier(n_estimators=150, max_depth=6)\r\n",
        "score_rf = cross_val_score(rfclf, x_train, y=y_train, cv=cv, n_jobs=-1, scoring='f1')"
      ],
      "execution_count": 79,
      "outputs": []
    },
    {
      "cell_type": "code",
      "metadata": {
        "colab": {
          "base_uri": "https://localhost:8080/"
        },
        "id": "6GjbIIAU2onr",
        "outputId": "817fd930-eff8-4ad1-9efc-9a747a16fadb"
      },
      "source": [
        "score_rf.mean()"
      ],
      "execution_count": 81,
      "outputs": [
        {
          "output_type": "execute_result",
          "data": {
            "text/plain": [
              "0.28098839775429163"
            ]
          },
          "metadata": {
            "tags": []
          },
          "execution_count": 81
        }
      ]
    },
    {
      "cell_type": "code",
      "metadata": {
        "colab": {
          "base_uri": "https://localhost:8080/"
        },
        "id": "qK_jBt2TE9s7",
        "outputId": "8fcfbf7a-238a-4c07-83a7-2f3442222a74"
      },
      "source": [
        "rfclf = RandomForestClassifier(n_estimators=100, max_depth=3)\r\n",
        "score_rf = cross_val_score(rfclf, x_train, y=y_train, cv=cv, n_jobs=-1, scoring='f1')\r\n",
        "score_rf.mean()"
      ],
      "execution_count": 113,
      "outputs": [
        {
          "output_type": "execute_result",
          "data": {
            "text/plain": [
              "0.24752863403665723"
            ]
          },
          "metadata": {
            "tags": []
          },
          "execution_count": 113
        }
      ]
    },
    {
      "cell_type": "code",
      "metadata": {
        "colab": {
          "base_uri": "https://localhost:8080/"
        },
        "id": "eqRjUtK725kI",
        "outputId": "0b373417-6494-4f86-fb4d-d3f2a99f193d"
      },
      "source": [
        "rfclf = RandomForestClassifier(n_estimators=250, max_depth=6)\r\n",
        "score_rf = cross_val_score(rfclf, x_train, y=y_train, cv=cv, n_jobs=-1, scoring='f1')\r\n",
        "score_rf.mean()"
      ],
      "execution_count": 114,
      "outputs": [
        {
          "output_type": "execute_result",
          "data": {
            "text/plain": [
              "0.2825627697767509"
            ]
          },
          "metadata": {
            "tags": []
          },
          "execution_count": 114
        }
      ]
    },
    {
      "cell_type": "code",
      "metadata": {
        "colab": {
          "base_uri": "https://localhost:8080/"
        },
        "id": "B56-19-jFXjy",
        "outputId": "d1fbe66c-4a02-4ae7-9087-ea8f6edbde22"
      },
      "source": [
        "rfclf = RandomForestClassifier(n_estimators=200, max_depth=10, random_state=60)\r\n",
        "score_rf = cross_val_score(rfclf, x_train, y=y_train, cv=cv, n_jobs=-1, scoring='f1')\r\n",
        "score_rf.mean()"
      ],
      "execution_count": 115,
      "outputs": [
        {
          "output_type": "execute_result",
          "data": {
            "text/plain": [
              "0.32549833133979383"
            ]
          },
          "metadata": {
            "tags": []
          },
          "execution_count": 115
        }
      ]
    },
    {
      "cell_type": "code",
      "metadata": {
        "colab": {
          "base_uri": "https://localhost:8080/"
        },
        "id": "850kgGDR3YsS",
        "outputId": "77da98ac-8df6-48b7-f4cf-ad1661c63e63"
      },
      "source": [
        "rfclf = RandomForestClassifier(n_estimators=100, max_depth=6, random_state=60)\r\n",
        "rfclf.fit(x_train, y_train)\r\n",
        "# score_rf = cross_val_score(rfclf, x_train, y=y_train, cv=cv, n_jobs=-1, scoring='f1')\r\n",
        "# score_rf.mean()\r\n",
        "\r\n",
        "pred = rfclf.predict(x_test)\r\n",
        "f1(y_test, pred)"
      ],
      "execution_count": 111,
      "outputs": [
        {
          "output_type": "execute_result",
          "data": {
            "text/plain": [
              "0.3105175292153589"
            ]
          },
          "metadata": {
            "tags": []
          },
          "execution_count": 111
        }
      ]
    },
    {
      "cell_type": "code",
      "metadata": {
        "id": "BVYcNGV6DyU-"
      },
      "source": [
        ""
      ],
      "execution_count": null,
      "outputs": []
    },
    {
      "cell_type": "code",
      "metadata": {
        "colab": {
          "base_uri": "https://localhost:8080/"
        },
        "id": "IHRIs_aZ3e7H",
        "outputId": "a01006b3-599e-4c63-91a8-806690a3daeb"
      },
      "source": [
        "rfclf = RandomForestClassifier(n_estimators=300, max_depth=12, random_state=60)\r\n",
        "rfclf.fit(x_train, y_train)"
      ],
      "execution_count": 116,
      "outputs": [
        {
          "output_type": "execute_result",
          "data": {
            "text/plain": [
              "RandomForestClassifier(bootstrap=True, ccp_alpha=0.0, class_weight=None,\n",
              "                       criterion='gini', max_depth=12, max_features='auto',\n",
              "                       max_leaf_nodes=None, max_samples=None,\n",
              "                       min_impurity_decrease=0.0, min_impurity_split=None,\n",
              "                       min_samples_leaf=1, min_samples_split=2,\n",
              "                       min_weight_fraction_leaf=0.0, n_estimators=300,\n",
              "                       n_jobs=None, oob_score=False, random_state=60, verbose=0,\n",
              "                       warm_start=False)"
            ]
          },
          "metadata": {
            "tags": []
          },
          "execution_count": 116
        }
      ]
    },
    {
      "cell_type": "code",
      "metadata": {
        "colab": {
          "base_uri": "https://localhost:8080/"
        },
        "id": "fR7ThcAN3wwO",
        "outputId": "72feb01a-fd39-46bf-c4f6-94c4dacf954f"
      },
      "source": [
        "importances = rfclf.feature_importances_\r\n",
        "std = np.std([tree.feature_importances_ for tree in rfclf.estimators_],\r\n",
        "             axis=0)\r\n",
        "indices = np.argsort(importances)[::-1]\r\n",
        "print(indices)\r\n",
        "\r\n",
        "for f in range(x.shape[1]):\r\n",
        "    print(\"%d. %s (%f)\" % (f + 1, columns[indices[f]],  importances[indices[f]]))"
      ],
      "execution_count": 117,
      "outputs": [
        {
          "output_type": "stream",
          "text": [
            "[ 7  8  2 61  4  0  6  5  1  3 59 60 52 49 43 50 42 55 31 38 36 56 54 23\n",
            " 57 22 44 28 58  9 39 10 14 41 18 30 27 48 17 33 21 34 25 53 16 32 13 26\n",
            " 19 15 51 45 47 12 37 40 11 20 46 24 29 35]\n",
            "1. euribor3m (0.137780)\n",
            "2. nr.employed (0.116927)\n",
            "3. pdays (0.074017)\n",
            "4. poutcome_nonexistent (0.069784)\n",
            "5. emp.var.rate (0.061363)\n",
            "6. age (0.060166)\n",
            "7. cons.conf.idx (0.055543)\n",
            "8. cons.price.idx (0.048979)\n",
            "9. campaign (0.026308)\n",
            "10. previous (0.025351)\n",
            "11. day_of_week_wed (0.016382)\n",
            "12. poutcome_failure (0.014782)\n",
            "13. month_nov (0.013438)\n",
            "14. month_jun (0.012811)\n",
            "15. contact_cellular (0.012810)\n",
            "16. month_mar (0.012357)\n",
            "17. loan_yes (0.012290)\n",
            "18. day_of_week_fri (0.010371)\n",
            "19. education_professional.course (0.009047)\n",
            "20. housing_unknown (0.008521)\n",
            "21. default_yes (0.008431)\n",
            "22. day_of_week_mon (0.008164)\n",
            "23. month_sep (0.007796)\n",
            "24. marital_married (0.007611)\n",
            "25. day_of_week_thu (0.007523)\n",
            "26. marital_divorced (0.007450)\n",
            "27. contact_telephone (0.007437)\n",
            "28. education_basic.9y (0.007248)\n",
            "29. day_of_week_tue (0.007054)\n",
            "30. y (0.006952)\n",
            "31. housing_yes (0.006847)\n",
            "32. job_admin. (0.006600)\n",
            "33. job_management (0.006250)\n",
            "34. loan_unknown (0.006244)\n",
            "35. job_student (0.006190)\n",
            "36. education_illiterate (0.006005)\n",
            "37. education_basic.6y (0.005529)\n",
            "38. month_jul (0.005518)\n",
            "39. job_services (0.005392)\n",
            "40. education_unknown (0.005189)\n",
            "41. job_unknown (0.004945)\n",
            "42. default_no (0.004916)\n",
            "43. marital_unknown (0.004759)\n",
            "44. month_oct (0.004538)\n",
            "45. job_self-employed (0.004164)\n",
            "46. education_university.degree (0.004158)\n",
            "47. job_housemaid (0.003956)\n",
            "48. education_basic.4y (0.003423)\n",
            "49. job_technician (0.003405)\n",
            "50. job_retired (0.003265)\n",
            "51. month_may (0.003076)\n",
            "52. month_apr (0.003003)\n",
            "53. month_dec (0.003002)\n",
            "54. job_entrepreneur (0.002565)\n",
            "55. housing_no (0.002528)\n",
            "56. loan_no (0.002516)\n",
            "57. job_blue-collar (0.002301)\n",
            "58. job_unemployed (0.002204)\n",
            "59. month_aug (0.001723)\n",
            "60. marital_single (0.000804)\n",
            "61. education_high.school (0.000294)\n",
            "62. default_unknown (0.000000)\n"
          ],
          "name": "stdout"
        }
      ]
    },
    {
      "cell_type": "code",
      "metadata": {
        "id": "UOuixGm4DSlz"
      },
      "source": [
        ""
      ],
      "execution_count": null,
      "outputs": []
    }
  ]
}